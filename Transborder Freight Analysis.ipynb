{
 "cells": [
  {
   "cell_type": "markdown",
   "id": "1066ece7-fc42-49c3-a9a2-b5aeb3b13523",
   "metadata": {},
   "source": [
    "## Transborder Freight Analysis Using CRISP-DM Framework\n"
   ]
  },
  {
   "cell_type": "markdown",
   "id": "2add586c-fb12-4db4-bd21-de42ad785c4c",
   "metadata": {},
   "source": [
    "###  Importation of Packages"
   ]
  },
  {
   "cell_type": "code",
   "execution_count": 3,
   "id": "4fed7975-1336-46d0-b940-db42942d05e2",
   "metadata": {},
   "outputs": [],
   "source": [
    "import os\n",
    "import pandas as pd\n",
    "import matplotlib.pyplot as plt\n",
    "import seaborn as sns\n",
    "import numpy as np"
   ]
  },
  {
   "cell_type": "markdown",
   "id": "20274c9d-017b-4ef5-a617-590ea4ddd5f8",
   "metadata": {},
   "source": [
    "### Data Importation"
   ]
  },
  {
   "cell_type": "code",
   "execution_count": 5,
   "id": "299259d5-6d57-430b-a2ca-5c576de07704",
   "metadata": {},
   "outputs": [],
   "source": [
    "   # This is a function that allows to unzips and read the csv files\n",
    "def process_data_from_directory(base_directory, output_file1, output_file2, output_file3):\n",
    "    # Lists to store DataFrames for each prefix (dot1, dot2, dot3)\n",
    "    dot1_data = []\n",
    "    dot2_data = []\n",
    "    dot3_data = []\n",
    "\n",
    "    # Walk through the directory to find CSV files\n",
    "    for root, dirs, files in os.walk(base_directory):\n",
    "        for file in files:\n",
    "            if file.endswith('.csv'):  # Process only CSV files\n",
    "                if 'ytd' in file.lower():  # Skip files containing 'ytd' in the filename\n",
    "                    print(f\"Skipping {file} as it contains 'ytd' in the filename.\")\n",
    "                    continue  # Skip this file\n",
    "\n",
    "                file_path = os.path.join(root, file)\n",
    "                try:\n",
    "                    # Read CSV file into a DataFrame\n",
    "                    df = pd.read_csv(file_path, low_memory=False)\n",
    "\n",
    "                    # Categorize based on the prefix\n",
    "                    if file.startswith('dot1'):\n",
    "                        dot1_data.append(df)\n",
    "                    elif file.startswith('dot2'):\n",
    "                        dot2_data.append(df)\n",
    "                    elif file.startswith('dot3'):\n",
    "                        dot3_data.append(df)\n",
    "\n",
    "                except Exception as e:\n",
    "                    print(f\"Error reading {file_path}: {e}\")\n",
    "\n",
    "    # Step 3: Concatenate the DataFrames based on the prefix\n",
    "    combined_dot1 = pd.concat(dot1_data, ignore_index=True) if dot1_data else None\n",
    "    combined_dot2 = pd.concat(dot2_data, ignore_index=True) if dot2_data else None\n",
    "    combined_dot3 = pd.concat(dot3_data, ignore_index=True) if dot3_data else None\n",
    "\n",
    "    # Save the combined data to output files if any data exists\n",
    "    if combined_dot1 is not None:\n",
    "        combined_dot1.to_csv(output_file1, index=False)\n",
    "        print(f\"Combined dot1 data saved to {output_file1}\")\n",
    "\n",
    "    if combined_dot2 is not None:\n",
    "        combined_dot2.to_csv(output_file2, index=False)\n",
    "        print(f\"Combined dot2 data saved to {output_file2}\")\n",
    "\n",
    "    if combined_dot3 is not None:\n",
    "        combined_dot3.to_csv(output_file3, index=False)\n",
    "        print(f\"Combined dot3 data saved to {output_file3}\")\n",
    "\n",
    "    return combined_dot1, combined_dot2, combined_dot3"
   ]
  },
  {
   "cell_type": "code",
   "execution_count": 6,
   "id": "443a270d-2dce-40da-b8a0-d0b90033cc45",
   "metadata": {},
   "outputs": [
    {
     "name": "stdout",
     "output_type": "stream",
     "text": [
      "Skipping dot1_ytd_0420.csv as it contains 'ytd' in the filename.\n",
      "Skipping dot2_ytd_0420.csv as it contains 'ytd' in the filename.\n",
      "Skipping dot3_ytd_0420.csv as it contains 'ytd' in the filename.\n",
      "Skipping dot1_ytd_0820.csv as it contains 'ytd' in the filename.\n",
      "Skipping dot2_ytd_0820.csv as it contains 'ytd' in the filename.\n",
      "Skipping dot3_ytd_0820.csv as it contains 'ytd' in the filename.\n",
      "Skipping dot1_ytd_0220.csv as it contains 'ytd' in the filename.\n",
      "Skipping dot2_ytd_0220.csv as it contains 'ytd' in the filename.\n",
      "Skipping dot3_ytd_0220.csv as it contains 'ytd' in the filename.\n",
      "Skipping dot1_ytd_0120.csv as it contains 'ytd' in the filename.\n",
      "Skipping dot2_ytd_0120.csv as it contains 'ytd' in the filename.\n",
      "Skipping dot3_ytd_0120.csv as it contains 'ytd' in the filename.\n",
      "Skipping dot1_ytd_0720.csv as it contains 'ytd' in the filename.\n",
      "Skipping dot2_ytd_0720.csv as it contains 'ytd' in the filename.\n",
      "Skipping dot3_ytd_0720.csv as it contains 'ytd' in the filename.\n",
      "Error reading data\\2020\\July2020TransBorderRawData\\__MACOSX\\._dot1_0720.csv: 'utf-8' codec can't decode byte 0xb1 in position 45: invalid start byte\n",
      "Skipping ._dot1_ytd_0720.csv as it contains 'ytd' in the filename.\n",
      "Error reading data\\2020\\July2020TransBorderRawData\\__MACOSX\\._dot2_0720.csv: 'utf-8' codec can't decode byte 0xb1 in position 45: invalid start byte\n",
      "Skipping ._dot2_ytd_0720.csv as it contains 'ytd' in the filename.\n",
      "Error reading data\\2020\\July2020TransBorderRawData\\__MACOSX\\._dot3_0720.csv: 'utf-8' codec can't decode byte 0xb1 in position 45: invalid start byte\n",
      "Skipping ._dot3_ytd_0720.csv as it contains 'ytd' in the filename.\n",
      "Skipping dot1_ytd_0620.csv as it contains 'ytd' in the filename.\n",
      "Skipping dot2_ytd_0620.csv as it contains 'ytd' in the filename.\n",
      "Skipping dot3_ytd_0620.csv as it contains 'ytd' in the filename.\n",
      "Skipping dot1_ytd_0320.csv as it contains 'ytd' in the filename.\n",
      "Skipping dot2_ytd_0320.csv as it contains 'ytd' in the filename.\n",
      "Skipping dot3_ytd_0320.csv as it contains 'ytd' in the filename.\n",
      "Skipping dot1_ytd_0520.csv as it contains 'ytd' in the filename.\n",
      "Skipping dot2_ytd_0520.csv as it contains 'ytd' in the filename.\n",
      "Skipping dot3_ytd_0520.csv as it contains 'ytd' in the filename.\n",
      "Skipping dot1_ytd_0920.csv as it contains 'ytd' in the filename.\n",
      "Skipping dot2_ytd_0920.csv as it contains 'ytd' in the filename.\n",
      "Skipping dot3_ytd_0920.csv as it contains 'ytd' in the filename.\n",
      "Skipping dot1_ytd_0421.csv as it contains 'ytd' in the filename.\n",
      "Skipping dot2_ytd_0421.csv as it contains 'ytd' in the filename.\n",
      "Skipping dot3_ytd_0421.csv as it contains 'ytd' in the filename.\n",
      "Skipping dot1_ytd_0221.csv as it contains 'ytd' in the filename.\n",
      "Skipping dot2_ytd_0221.csv as it contains 'ytd' in the filename.\n",
      "Skipping dot3_ytd_0221.csv as it contains 'ytd' in the filename.\n",
      "Skipping dot1_ytd_0121.csv as it contains 'ytd' in the filename.\n",
      "Skipping dot2_ytd_0121.csv as it contains 'ytd' in the filename.\n",
      "Skipping dot3_ytd_0121.csv as it contains 'ytd' in the filename.\n",
      "Skipping dot1_ytd_0821.csv as it contains 'ytd' in the filename.\n",
      "Skipping dot2_ytd_0821.csv as it contains 'ytd' in the filename.\n",
      "Skipping dot3_ytd_0821.csv as it contains 'ytd' in the filename.\n",
      "Skipping dot1_ytd_1221.csv as it contains 'ytd' in the filename.\n",
      "Skipping dot2_ytd_1221.csv as it contains 'ytd' in the filename.\n",
      "Skipping dot3_ytd_1221.csv as it contains 'ytd' in the filename.\n",
      "Skipping dot1_ytd_0721.csv as it contains 'ytd' in the filename.\n",
      "Skipping dot2_ytd_0721.csv as it contains 'ytd' in the filename.\n",
      "Skipping dot3_ytd_0721.csv as it contains 'ytd' in the filename.\n",
      "Skipping dot1_ytd_1121.csv as it contains 'ytd' in the filename.\n",
      "Skipping dot2_ytd_1121.csv as it contains 'ytd' in the filename.\n",
      "Skipping dot3_ytd_1121.csv as it contains 'ytd' in the filename.\n",
      "Skipping dot1_ytd_1021.csv as it contains 'ytd' in the filename.\n",
      "Skipping dot2_ytd_1021.csv as it contains 'ytd' in the filename.\n",
      "Skipping dot3_ytd_1021.csv as it contains 'ytd' in the filename.\n",
      "Skipping dot1_ytd_0921.csv as it contains 'ytd' in the filename.\n",
      "Skipping dot2_ytd_0921.csv as it contains 'ytd' in the filename.\n",
      "Skipping dot3_ytd_0921.csv as it contains 'ytd' in the filename.\n",
      "Skipping dot1_ytd_0721.csv as it contains 'ytd' in the filename.\n",
      "Skipping dot2_ytd_0721.csv as it contains 'ytd' in the filename.\n",
      "Skipping dot3_ytd_0721.csv as it contains 'ytd' in the filename.\n",
      "Skipping dot1_ytd_0621.csv as it contains 'ytd' in the filename.\n",
      "Skipping dot2_ytd_0621.csv as it contains 'ytd' in the filename.\n",
      "Skipping dot3_ytd_0621.csv as it contains 'ytd' in the filename.\n",
      "Skipping dot1_ytd_0321.csv as it contains 'ytd' in the filename.\n",
      "Skipping dot2_ytd_0321.csv as it contains 'ytd' in the filename.\n",
      "Skipping dot3_ytd_0321.csv as it contains 'ytd' in the filename.\n",
      "Skipping dot1_ytd_0521.csv as it contains 'ytd' in the filename.\n",
      "Skipping dot2_ytd_0521.csv as it contains 'ytd' in the filename.\n",
      "Skipping dot3_ytd_0521.csv as it contains 'ytd' in the filename.\n",
      "Skipping dot1_ytd_0422.csv as it contains 'ytd' in the filename.\n",
      "Skipping dot2_ytd_0422.csv as it contains 'ytd' in the filename.\n",
      "Skipping dot3_ytd_0422.csv as it contains 'ytd' in the filename.\n",
      "Skipping dot1_ytd_0822.csv as it contains 'ytd' in the filename.\n",
      "Skipping dot2_ytd_0822.csv as it contains 'ytd' in the filename.\n",
      "Skipping dot3_ytd_0822.csv as it contains 'ytd' in the filename.\n",
      "Skipping dot1_ytd_1222.csv as it contains 'ytd' in the filename.\n",
      "Skipping dot2_ytd_1222.csv as it contains 'ytd' in the filename.\n",
      "Skipping dot3_ytd_1222.csv as it contains 'ytd' in the filename.\n",
      "Skipping dot1_ytd_0222.csv as it contains 'ytd' in the filename.\n",
      "Skipping dot2_ytd_0222.csv as it contains 'ytd' in the filename.\n",
      "Skipping dot3_ytd_0222.csv as it contains 'ytd' in the filename.\n",
      "Skipping dot1_ytd_0122.csv as it contains 'ytd' in the filename.\n",
      "Skipping dot2_ytd_0122.csv as it contains 'ytd' in the filename.\n",
      "Skipping dot3_ytd_0122.csv as it contains 'ytd' in the filename.\n",
      "Skipping dot1_ytd_0722.csv as it contains 'ytd' in the filename.\n",
      "Skipping dot2_ytd_0722.csv as it contains 'ytd' in the filename.\n",
      "Skipping dot3_ytd_0722.csv as it contains 'ytd' in the filename.\n",
      "Skipping dot1_ytd_0622.csv as it contains 'ytd' in the filename.\n",
      "Skipping dot2_ytd_0622.csv as it contains 'ytd' in the filename.\n",
      "Skipping dot3_ytd_0622.csv as it contains 'ytd' in the filename.\n",
      "Skipping dot1_ytd_0322.csv as it contains 'ytd' in the filename.\n",
      "Skipping dot2_ytd_0322.csv as it contains 'ytd' in the filename.\n",
      "Skipping dot3_ytd_0322.csv as it contains 'ytd' in the filename.\n",
      "Skipping dot1_ytd_0522.csv as it contains 'ytd' in the filename.\n",
      "Skipping dot2_ytd_0522.csv as it contains 'ytd' in the filename.\n",
      "Skipping dot3_ytd_0522.csv as it contains 'ytd' in the filename.\n",
      "Skipping dot1_ytd_1122.csv as it contains 'ytd' in the filename.\n",
      "Skipping dot2_ytd_1122.csv as it contains 'ytd' in the filename.\n",
      "Skipping dot3_ytd_1122.csv as it contains 'ytd' in the filename.\n",
      "Skipping dot1_ytd_1022.csv as it contains 'ytd' in the filename.\n",
      "Skipping dot2_ytd_1022.csv as it contains 'ytd' in the filename.\n",
      "Skipping dot3_ytd_1022.csv as it contains 'ytd' in the filename.\n",
      "Skipping dot1_ytd_0922.csv as it contains 'ytd' in the filename.\n",
      "Skipping dot2_ytd_0922.csv as it contains 'ytd' in the filename.\n",
      "Skipping dot3_ytd_0922.csv as it contains 'ytd' in the filename.\n",
      "Skipping dot1_ytd_0423.csv as it contains 'ytd' in the filename.\n",
      "Skipping dot2_ytd_0423.csv as it contains 'ytd' in the filename.\n",
      "Skipping dot3_ytd_0423.csv as it contains 'ytd' in the filename.\n",
      "Skipping dot1_ytd_0823.csv as it contains 'ytd' in the filename.\n",
      "Skipping dot2_ytd_0823.csv as it contains 'ytd' in the filename.\n",
      "Skipping dot3_ytd_0823.csv as it contains 'ytd' in the filename.\n",
      "Skipping dot1_ytd_0223.csv as it contains 'ytd' in the filename.\n",
      "Skipping dot2_ytd_0223.csv as it contains 'ytd' in the filename.\n",
      "Skipping dot3_ytd_0223.csv as it contains 'ytd' in the filename.\n",
      "Skipping dot1_ytd_0123.csv as it contains 'ytd' in the filename.\n",
      "Skipping dot2_ytd_0123.csv as it contains 'ytd' in the filename.\n",
      "Skipping dot3_ytd_0123.csv as it contains 'ytd' in the filename.\n",
      "Skipping dot1_ytd_0723.csv as it contains 'ytd' in the filename.\n",
      "Skipping dot2_ytd_0723.csv as it contains 'ytd' in the filename.\n",
      "Skipping dot3_ytd_0723.csv as it contains 'ytd' in the filename.\n",
      "Skipping dot1_ytd_0623.csv as it contains 'ytd' in the filename.\n",
      "Skipping dot2_ytd_0623.csv as it contains 'ytd' in the filename.\n",
      "Skipping dot3_ytd_0623.csv as it contains 'ytd' in the filename.\n",
      "Skipping dot1_ytd_0323.csv as it contains 'ytd' in the filename.\n",
      "Skipping dot2_ytd_0323.csv as it contains 'ytd' in the filename.\n",
      "Skipping dot3_ytd_0323.csv as it contains 'ytd' in the filename.\n",
      "Skipping dot1_ytd_0523.csv as it contains 'ytd' in the filename.\n",
      "Skipping dot2_ytd_0523.csv as it contains 'ytd' in the filename.\n",
      "Skipping dot3_ytd_0523.csv as it contains 'ytd' in the filename.\n",
      "Combined dot1 data saved to combined_dot1.csv\n",
      "Combined dot2 data saved to combined_dot2.csv\n",
      "Combined dot3 data saved to combined_dot3.csv\n",
      "Combined dot1 DataFrame:\n",
      "   TRDTYPE USASTATE  DEPE  DISAGMOT MEXSTATE CANPROV  COUNTRY    VALUE  \\\n",
      "0        1       AK  0115         5      NaN      XB     1220     4660   \n",
      "1        1       AK  0901         5      NaN      XO     1220    14360   \n",
      "2        1       AK  20XX         1       XX     NaN     2010  4293733   \n",
      "3        1       AK  20XX         3      NaN      XA     1220    28283   \n",
      "4        1       AK  20XX         3      NaN      XA     1220    29848   \n",
      "\n",
      "     SHIPWT  FREIGHT_CHARGES   DF CONTCODE  MONTH  YEAR  \n",
      "0         0               67  2.0        X    4.0  2020  \n",
      "1         0              282  1.0        X    4.0  2020  \n",
      "2  24971000                0  1.0        0    4.0  2020  \n",
      "3       443              563  1.0        X    4.0  2020  \n",
      "4        69              538  2.0        X    4.0  2020  \n",
      "Combined dot2 DataFrame:\n",
      "   TRDTYPE USASTATE  COMMODITY2  DISAGMOT MEXSTATE CANPROV  COUNTRY   VALUE  \\\n",
      "0        1       AK           2         5       NL     NaN     2010   22370   \n",
      "1        1       AK           3         1      NaN      XB     1220  108133   \n",
      "2        1       AK           3         1      NaN      XC     1220  809104   \n",
      "3        1       AK           3         5      NaN      XC     1220  887888   \n",
      "4        1       AK           3         5      NaN      XO     1220   76006   \n",
      "\n",
      "   SHIPWT  FREIGHT_CHARGES   DF CONTCODE  MONTH  YEAR  \n",
      "0       0                0  1.0        0    4.0  2020  \n",
      "1   24698             1482  1.0        X    4.0  2020  \n",
      "2   99790            15864  1.0        X    4.0  2020  \n",
      "3       0            17546  1.0        X    4.0  2020  \n",
      "4       0             1665  1.0        X    4.0  2020  \n",
      "Combined dot3 DataFrame:\n",
      "   TRDTYPE  DEPE  COMMODITY2  DISAGMOT  COUNTRY  VALUE  SHIPWT  \\\n",
      "0        1  0101           9         5     1220   2864       0   \n",
      "1        1  0101          19         5     1220  12690       0   \n",
      "2        1  0101          20         5     1220   6699       0   \n",
      "3        1  0101          25         6     1220  25854       0   \n",
      "4        1  0101          28         5     1220  16007       0   \n",
      "\n",
      "   FREIGHT_CHARGES   DF CONTCODE  MONTH  YEAR  \n",
      "0               56  2.0        X    4.0  2020  \n",
      "1              241  1.0        X    4.0  2020  \n",
      "2              131  1.0        X    4.0  2020  \n",
      "3              506  1.0        X    4.0  2020  \n",
      "4              313  2.0        X    4.0  2020  \n"
     ]
    }
   ],
   "source": [
    "# Call the function to process files and save the combined data\n",
    "base_directory = \"data\"  # Replace with your actual directory path\n",
    "output_file1 = \"combined_dot1.csv\"\n",
    "output_file2 = \"combined_dot2.csv\"\n",
    "output_file3 = \"combined_dot3.csv\"\n",
    "\n",
    "combined_dot1, combined_dot2, combined_dot3 = process_data_from_directory(\n",
    "    base_directory, output_file1, output_file2, output_file3\n",
    ")\n",
    "\n",
    "# Display the first few rows of each combined dataset\n",
    "if combined_dot1 is not None:\n",
    "    print(\"Combined dot1 DataFrame:\")\n",
    "    print(combined_dot1.head())\n",
    "\n",
    "if combined_dot2 is not None:\n",
    "    print(\"Combined dot2 DataFrame:\")\n",
    "    print(combined_dot2.head())\n",
    "\n",
    "if combined_dot3 is not None:\n",
    "    print(\"Combined dot3 DataFrame:\")\n",
    "    print(combined_dot3.head())"
   ]
  },
  {
   "cell_type": "markdown",
   "id": "1fae445d-2713-406c-a53b-21a859897ab5",
   "metadata": {},
   "source": [
    "### Expoloratory Data Analysis (EDA)"
   ]
  },
  {
   "cell_type": "markdown",
   "id": "99b98f20-1df5-433a-aa05-b49c2fd026ec",
   "metadata": {},
   "source": [
    "#### Data Cleaning and Validation"
   ]
  },
  {
   "cell_type": "code",
   "execution_count": 9,
   "id": "a9a3e69b-426f-4663-afab-a5d3ca075e3f",
   "metadata": {
    "tags": []
   },
   "outputs": [
    {
     "data": {
      "text/html": [
       "<div>\n",
       "<style scoped>\n",
       "    .dataframe tbody tr th:only-of-type {\n",
       "        vertical-align: middle;\n",
       "    }\n",
       "\n",
       "    .dataframe tbody tr th {\n",
       "        vertical-align: top;\n",
       "    }\n",
       "\n",
       "    .dataframe thead th {\n",
       "        text-align: right;\n",
       "    }\n",
       "</style>\n",
       "<table border=\"1\" class=\"dataframe\">\n",
       "  <thead>\n",
       "    <tr style=\"text-align: right;\">\n",
       "      <th></th>\n",
       "      <th>TRDTYPE</th>\n",
       "      <th>USASTATE</th>\n",
       "      <th>DEPE</th>\n",
       "      <th>DISAGMOT</th>\n",
       "      <th>MEXSTATE</th>\n",
       "      <th>CANPROV</th>\n",
       "      <th>COUNTRY</th>\n",
       "      <th>VALUE</th>\n",
       "      <th>SHIPWT</th>\n",
       "      <th>FREIGHT_CHARGES</th>\n",
       "      <th>DF</th>\n",
       "      <th>CONTCODE</th>\n",
       "      <th>MONTH</th>\n",
       "      <th>YEAR</th>\n",
       "    </tr>\n",
       "  </thead>\n",
       "  <tbody>\n",
       "    <tr>\n",
       "      <th>0</th>\n",
       "      <td>1</td>\n",
       "      <td>AK</td>\n",
       "      <td>0115</td>\n",
       "      <td>5</td>\n",
       "      <td>NaN</td>\n",
       "      <td>XB</td>\n",
       "      <td>1220</td>\n",
       "      <td>4660</td>\n",
       "      <td>0</td>\n",
       "      <td>67</td>\n",
       "      <td>2.0</td>\n",
       "      <td>X</td>\n",
       "      <td>4.0</td>\n",
       "      <td>2020</td>\n",
       "    </tr>\n",
       "    <tr>\n",
       "      <th>1</th>\n",
       "      <td>1</td>\n",
       "      <td>AK</td>\n",
       "      <td>0901</td>\n",
       "      <td>5</td>\n",
       "      <td>NaN</td>\n",
       "      <td>XO</td>\n",
       "      <td>1220</td>\n",
       "      <td>14360</td>\n",
       "      <td>0</td>\n",
       "      <td>282</td>\n",
       "      <td>1.0</td>\n",
       "      <td>X</td>\n",
       "      <td>4.0</td>\n",
       "      <td>2020</td>\n",
       "    </tr>\n",
       "    <tr>\n",
       "      <th>2</th>\n",
       "      <td>1</td>\n",
       "      <td>AK</td>\n",
       "      <td>20XX</td>\n",
       "      <td>1</td>\n",
       "      <td>XX</td>\n",
       "      <td>NaN</td>\n",
       "      <td>2010</td>\n",
       "      <td>4293733</td>\n",
       "      <td>24971000</td>\n",
       "      <td>0</td>\n",
       "      <td>1.0</td>\n",
       "      <td>0</td>\n",
       "      <td>4.0</td>\n",
       "      <td>2020</td>\n",
       "    </tr>\n",
       "    <tr>\n",
       "      <th>3</th>\n",
       "      <td>1</td>\n",
       "      <td>AK</td>\n",
       "      <td>20XX</td>\n",
       "      <td>3</td>\n",
       "      <td>NaN</td>\n",
       "      <td>XA</td>\n",
       "      <td>1220</td>\n",
       "      <td>28283</td>\n",
       "      <td>443</td>\n",
       "      <td>563</td>\n",
       "      <td>1.0</td>\n",
       "      <td>X</td>\n",
       "      <td>4.0</td>\n",
       "      <td>2020</td>\n",
       "    </tr>\n",
       "    <tr>\n",
       "      <th>4</th>\n",
       "      <td>1</td>\n",
       "      <td>AK</td>\n",
       "      <td>20XX</td>\n",
       "      <td>3</td>\n",
       "      <td>NaN</td>\n",
       "      <td>XA</td>\n",
       "      <td>1220</td>\n",
       "      <td>29848</td>\n",
       "      <td>69</td>\n",
       "      <td>538</td>\n",
       "      <td>2.0</td>\n",
       "      <td>X</td>\n",
       "      <td>4.0</td>\n",
       "      <td>2020</td>\n",
       "    </tr>\n",
       "  </tbody>\n",
       "</table>\n",
       "</div>"
      ],
      "text/plain": [
       "   TRDTYPE USASTATE  DEPE  DISAGMOT MEXSTATE CANPROV  COUNTRY    VALUE  \\\n",
       "0        1       AK  0115         5      NaN      XB     1220     4660   \n",
       "1        1       AK  0901         5      NaN      XO     1220    14360   \n",
       "2        1       AK  20XX         1       XX     NaN     2010  4293733   \n",
       "3        1       AK  20XX         3      NaN      XA     1220    28283   \n",
       "4        1       AK  20XX         3      NaN      XA     1220    29848   \n",
       "\n",
       "     SHIPWT  FREIGHT_CHARGES   DF CONTCODE  MONTH  YEAR  \n",
       "0         0               67  2.0        X    4.0  2020  \n",
       "1         0              282  1.0        X    4.0  2020  \n",
       "2  24971000                0  1.0        0    4.0  2020  \n",
       "3       443              563  1.0        X    4.0  2020  \n",
       "4        69              538  2.0        X    4.0  2020  "
      ]
     },
     "execution_count": 9,
     "metadata": {},
     "output_type": "execute_result"
    }
   ],
   "source": [
    "combined_dot1.head()"
   ]
  },
  {
   "cell_type": "code",
   "execution_count": 10,
   "id": "0b9530f7-5ccd-426e-8a56-178ccbd25326",
   "metadata": {
    "tags": []
   },
   "outputs": [
    {
     "data": {
      "text/html": [
       "<div>\n",
       "<style scoped>\n",
       "    .dataframe tbody tr th:only-of-type {\n",
       "        vertical-align: middle;\n",
       "    }\n",
       "\n",
       "    .dataframe tbody tr th {\n",
       "        vertical-align: top;\n",
       "    }\n",
       "\n",
       "    .dataframe thead th {\n",
       "        text-align: right;\n",
       "    }\n",
       "</style>\n",
       "<table border=\"1\" class=\"dataframe\">\n",
       "  <thead>\n",
       "    <tr style=\"text-align: right;\">\n",
       "      <th></th>\n",
       "      <th>TRDTYPE</th>\n",
       "      <th>USASTATE</th>\n",
       "      <th>DEPE</th>\n",
       "      <th>DISAGMOT</th>\n",
       "      <th>MEXSTATE</th>\n",
       "      <th>CANPROV</th>\n",
       "      <th>COUNTRY</th>\n",
       "      <th>VALUE</th>\n",
       "      <th>SHIPWT</th>\n",
       "      <th>FREIGHT_CHARGES</th>\n",
       "      <th>DF</th>\n",
       "      <th>CONTCODE</th>\n",
       "      <th>MONTH</th>\n",
       "      <th>YEAR</th>\n",
       "    </tr>\n",
       "  </thead>\n",
       "  <tbody>\n",
       "    <tr>\n",
       "      <th>1649156</th>\n",
       "      <td>2</td>\n",
       "      <td>WY</td>\n",
       "      <td>4101</td>\n",
       "      <td>3</td>\n",
       "      <td>NaN</td>\n",
       "      <td>XC</td>\n",
       "      <td>1220</td>\n",
       "      <td>8869</td>\n",
       "      <td>63</td>\n",
       "      <td>290</td>\n",
       "      <td>NaN</td>\n",
       "      <td>0</td>\n",
       "      <td>9.0</td>\n",
       "      <td>2024</td>\n",
       "    </tr>\n",
       "    <tr>\n",
       "      <th>1649157</th>\n",
       "      <td>2</td>\n",
       "      <td>WY</td>\n",
       "      <td>4101</td>\n",
       "      <td>3</td>\n",
       "      <td>NaN</td>\n",
       "      <td>XN</td>\n",
       "      <td>1220</td>\n",
       "      <td>10853</td>\n",
       "      <td>29</td>\n",
       "      <td>72</td>\n",
       "      <td>NaN</td>\n",
       "      <td>0</td>\n",
       "      <td>9.0</td>\n",
       "      <td>2024</td>\n",
       "    </tr>\n",
       "    <tr>\n",
       "      <th>1649158</th>\n",
       "      <td>2</td>\n",
       "      <td>WY</td>\n",
       "      <td>4101</td>\n",
       "      <td>3</td>\n",
       "      <td>NaN</td>\n",
       "      <td>XO</td>\n",
       "      <td>1220</td>\n",
       "      <td>59348</td>\n",
       "      <td>307</td>\n",
       "      <td>858</td>\n",
       "      <td>NaN</td>\n",
       "      <td>0</td>\n",
       "      <td>9.0</td>\n",
       "      <td>2024</td>\n",
       "    </tr>\n",
       "    <tr>\n",
       "      <th>1649159</th>\n",
       "      <td>2</td>\n",
       "      <td>WY</td>\n",
       "      <td>4101</td>\n",
       "      <td>3</td>\n",
       "      <td>NaN</td>\n",
       "      <td>XQ</td>\n",
       "      <td>1220</td>\n",
       "      <td>12689</td>\n",
       "      <td>53</td>\n",
       "      <td>382</td>\n",
       "      <td>NaN</td>\n",
       "      <td>0</td>\n",
       "      <td>9.0</td>\n",
       "      <td>2024</td>\n",
       "    </tr>\n",
       "    <tr>\n",
       "      <th>1649160</th>\n",
       "      <td>2</td>\n",
       "      <td>WY</td>\n",
       "      <td>41XX</td>\n",
       "      <td>3</td>\n",
       "      <td>NaN</td>\n",
       "      <td>NaN</td>\n",
       "      <td>2010</td>\n",
       "      <td>11931</td>\n",
       "      <td>38</td>\n",
       "      <td>136</td>\n",
       "      <td>NaN</td>\n",
       "      <td>0</td>\n",
       "      <td>9.0</td>\n",
       "      <td>2024</td>\n",
       "    </tr>\n",
       "  </tbody>\n",
       "</table>\n",
       "</div>"
      ],
      "text/plain": [
       "         TRDTYPE USASTATE  DEPE  DISAGMOT MEXSTATE CANPROV  COUNTRY  VALUE  \\\n",
       "1649156        2       WY  4101         3      NaN      XC     1220   8869   \n",
       "1649157        2       WY  4101         3      NaN      XN     1220  10853   \n",
       "1649158        2       WY  4101         3      NaN      XO     1220  59348   \n",
       "1649159        2       WY  4101         3      NaN      XQ     1220  12689   \n",
       "1649160        2       WY  41XX         3      NaN     NaN     2010  11931   \n",
       "\n",
       "         SHIPWT  FREIGHT_CHARGES  DF CONTCODE  MONTH  YEAR  \n",
       "1649156      63              290 NaN        0    9.0  2024  \n",
       "1649157      29               72 NaN        0    9.0  2024  \n",
       "1649158     307              858 NaN        0    9.0  2024  \n",
       "1649159      53              382 NaN        0    9.0  2024  \n",
       "1649160      38              136 NaN        0    9.0  2024  "
      ]
     },
     "execution_count": 10,
     "metadata": {},
     "output_type": "execute_result"
    }
   ],
   "source": [
    "combined_dot1.tail()"
   ]
  },
  {
   "cell_type": "code",
   "execution_count": 11,
   "id": "154e4f31-1077-401c-8246-071ca79ede58",
   "metadata": {
    "tags": []
   },
   "outputs": [
    {
     "name": "stdout",
     "output_type": "stream",
     "text": [
      "<class 'pandas.core.frame.DataFrame'>\n",
      "RangeIndex: 1649161 entries, 0 to 1649160\n",
      "Data columns (total 14 columns):\n",
      " #   Column           Non-Null Count    Dtype  \n",
      "---  ------           --------------    -----  \n",
      " 0   TRDTYPE          1649161 non-null  int64  \n",
      " 1   USASTATE         1649161 non-null  object \n",
      " 2   DEPE             1649161 non-null  object \n",
      " 3   DISAGMOT         1649161 non-null  int64  \n",
      " 4   MEXSTATE         481275 non-null   object \n",
      " 5   CANPROV          1044410 non-null  object \n",
      " 6   COUNTRY          1649161 non-null  int64  \n",
      " 7   VALUE            1649161 non-null  int64  \n",
      " 8   SHIPWT           1649161 non-null  int64  \n",
      " 9   FREIGHT_CHARGES  1649161 non-null  int64  \n",
      " 10  DF               1029645 non-null  float64\n",
      " 11  CONTCODE         1649161 non-null  object \n",
      " 12  MONTH            1528035 non-null  float64\n",
      " 13  YEAR             1649161 non-null  int64  \n",
      "dtypes: float64(2), int64(7), object(5)\n",
      "memory usage: 176.1+ MB\n"
     ]
    }
   ],
   "source": [
    "combined_dot1.info()"
   ]
  },
  {
   "cell_type": "code",
   "execution_count": 12,
   "id": "e6cc00ef-4940-4d5e-9dd1-ed30a6abaa72",
   "metadata": {
    "tags": []
   },
   "outputs": [
    {
     "data": {
      "text/html": [
       "<div>\n",
       "<style scoped>\n",
       "    .dataframe tbody tr th:only-of-type {\n",
       "        vertical-align: middle;\n",
       "    }\n",
       "\n",
       "    .dataframe tbody tr th {\n",
       "        vertical-align: top;\n",
       "    }\n",
       "\n",
       "    .dataframe thead th {\n",
       "        text-align: right;\n",
       "    }\n",
       "</style>\n",
       "<table border=\"1\" class=\"dataframe\">\n",
       "  <thead>\n",
       "    <tr style=\"text-align: right;\">\n",
       "      <th></th>\n",
       "      <th>TRDTYPE</th>\n",
       "      <th>DISAGMOT</th>\n",
       "      <th>COUNTRY</th>\n",
       "      <th>VALUE</th>\n",
       "      <th>SHIPWT</th>\n",
       "      <th>FREIGHT_CHARGES</th>\n",
       "      <th>DF</th>\n",
       "      <th>MONTH</th>\n",
       "      <th>YEAR</th>\n",
       "    </tr>\n",
       "  </thead>\n",
       "  <tbody>\n",
       "    <tr>\n",
       "      <th>count</th>\n",
       "      <td>1.649161e+06</td>\n",
       "      <td>1.649161e+06</td>\n",
       "      <td>1.649161e+06</td>\n",
       "      <td>1.649161e+06</td>\n",
       "      <td>1.649161e+06</td>\n",
       "      <td>1.649161e+06</td>\n",
       "      <td>1.029645e+06</td>\n",
       "      <td>1.528035e+06</td>\n",
       "      <td>1.649161e+06</td>\n",
       "    </tr>\n",
       "    <tr>\n",
       "      <th>mean</th>\n",
       "      <td>1.375655e+00</td>\n",
       "      <td>4.839831e+00</td>\n",
       "      <td>1.509695e+03</td>\n",
       "      <td>5.731768e+06</td>\n",
       "      <td>2.334948e+06</td>\n",
       "      <td>7.521747e+04</td>\n",
       "      <td>1.329927e+00</td>\n",
       "      <td>6.038520e+00</td>\n",
       "      <td>2.021991e+03</td>\n",
       "    </tr>\n",
       "    <tr>\n",
       "      <th>std</th>\n",
       "      <td>4.842918e-01</td>\n",
       "      <td>1.432696e+00</td>\n",
       "      <td>3.807045e+02</td>\n",
       "      <td>1.106477e+08</td>\n",
       "      <td>1.117767e+08</td>\n",
       "      <td>2.734839e+06</td>\n",
       "      <td>4.701867e-01</td>\n",
       "      <td>3.230619e+00</td>\n",
       "      <td>1.286290e+00</td>\n",
       "    </tr>\n",
       "    <tr>\n",
       "      <th>min</th>\n",
       "      <td>1.000000e+00</td>\n",
       "      <td>1.000000e+00</td>\n",
       "      <td>1.220000e+03</td>\n",
       "      <td>0.000000e+00</td>\n",
       "      <td>0.000000e+00</td>\n",
       "      <td>0.000000e+00</td>\n",
       "      <td>1.000000e+00</td>\n",
       "      <td>1.000000e+00</td>\n",
       "      <td>2.020000e+03</td>\n",
       "    </tr>\n",
       "    <tr>\n",
       "      <th>25%</th>\n",
       "      <td>1.000000e+00</td>\n",
       "      <td>5.000000e+00</td>\n",
       "      <td>1.220000e+03</td>\n",
       "      <td>2.006500e+04</td>\n",
       "      <td>0.000000e+00</td>\n",
       "      <td>0.000000e+00</td>\n",
       "      <td>1.000000e+00</td>\n",
       "      <td>3.000000e+00</td>\n",
       "      <td>2.021000e+03</td>\n",
       "    </tr>\n",
       "    <tr>\n",
       "      <th>50%</th>\n",
       "      <td>1.000000e+00</td>\n",
       "      <td>5.000000e+00</td>\n",
       "      <td>1.220000e+03</td>\n",
       "      <td>1.058920e+05</td>\n",
       "      <td>3.000000e+00</td>\n",
       "      <td>3.950000e+02</td>\n",
       "      <td>1.000000e+00</td>\n",
       "      <td>6.000000e+00</td>\n",
       "      <td>2.022000e+03</td>\n",
       "    </tr>\n",
       "    <tr>\n",
       "      <th>75%</th>\n",
       "      <td>2.000000e+00</td>\n",
       "      <td>5.000000e+00</td>\n",
       "      <td>2.010000e+03</td>\n",
       "      <td>7.001060e+05</td>\n",
       "      <td>9.801000e+03</td>\n",
       "      <td>3.953000e+03</td>\n",
       "      <td>2.000000e+00</td>\n",
       "      <td>9.000000e+00</td>\n",
       "      <td>2.023000e+03</td>\n",
       "    </tr>\n",
       "    <tr>\n",
       "      <th>max</th>\n",
       "      <td>2.000000e+00</td>\n",
       "      <td>9.000000e+00</td>\n",
       "      <td>2.010000e+03</td>\n",
       "      <td>4.801019e+10</td>\n",
       "      <td>8.395042e+10</td>\n",
       "      <td>2.009334e+09</td>\n",
       "      <td>2.000000e+00</td>\n",
       "      <td>1.200000e+01</td>\n",
       "      <td>2.024000e+03</td>\n",
       "    </tr>\n",
       "  </tbody>\n",
       "</table>\n",
       "</div>"
      ],
      "text/plain": [
       "            TRDTYPE      DISAGMOT       COUNTRY         VALUE        SHIPWT  \\\n",
       "count  1.649161e+06  1.649161e+06  1.649161e+06  1.649161e+06  1.649161e+06   \n",
       "mean   1.375655e+00  4.839831e+00  1.509695e+03  5.731768e+06  2.334948e+06   \n",
       "std    4.842918e-01  1.432696e+00  3.807045e+02  1.106477e+08  1.117767e+08   \n",
       "min    1.000000e+00  1.000000e+00  1.220000e+03  0.000000e+00  0.000000e+00   \n",
       "25%    1.000000e+00  5.000000e+00  1.220000e+03  2.006500e+04  0.000000e+00   \n",
       "50%    1.000000e+00  5.000000e+00  1.220000e+03  1.058920e+05  3.000000e+00   \n",
       "75%    2.000000e+00  5.000000e+00  2.010000e+03  7.001060e+05  9.801000e+03   \n",
       "max    2.000000e+00  9.000000e+00  2.010000e+03  4.801019e+10  8.395042e+10   \n",
       "\n",
       "       FREIGHT_CHARGES            DF         MONTH          YEAR  \n",
       "count     1.649161e+06  1.029645e+06  1.528035e+06  1.649161e+06  \n",
       "mean      7.521747e+04  1.329927e+00  6.038520e+00  2.021991e+03  \n",
       "std       2.734839e+06  4.701867e-01  3.230619e+00  1.286290e+00  \n",
       "min       0.000000e+00  1.000000e+00  1.000000e+00  2.020000e+03  \n",
       "25%       0.000000e+00  1.000000e+00  3.000000e+00  2.021000e+03  \n",
       "50%       3.950000e+02  1.000000e+00  6.000000e+00  2.022000e+03  \n",
       "75%       3.953000e+03  2.000000e+00  9.000000e+00  2.023000e+03  \n",
       "max       2.009334e+09  2.000000e+00  1.200000e+01  2.024000e+03  "
      ]
     },
     "execution_count": 12,
     "metadata": {},
     "output_type": "execute_result"
    }
   ],
   "source": [
    "combined_dot1.describe()"
   ]
  },
  {
   "cell_type": "code",
   "execution_count": 13,
   "id": "63c6908e-241b-4501-b385-376d2f2ac726",
   "metadata": {
    "tags": []
   },
   "outputs": [
    {
     "data": {
      "text/html": [
       "<div>\n",
       "<style scoped>\n",
       "    .dataframe tbody tr th:only-of-type {\n",
       "        vertical-align: middle;\n",
       "    }\n",
       "\n",
       "    .dataframe tbody tr th {\n",
       "        vertical-align: top;\n",
       "    }\n",
       "\n",
       "    .dataframe thead th {\n",
       "        text-align: right;\n",
       "    }\n",
       "</style>\n",
       "<table border=\"1\" class=\"dataframe\">\n",
       "  <thead>\n",
       "    <tr style=\"text-align: right;\">\n",
       "      <th></th>\n",
       "      <th>USASTATE</th>\n",
       "      <th>DEPE</th>\n",
       "      <th>MEXSTATE</th>\n",
       "      <th>CANPROV</th>\n",
       "      <th>CONTCODE</th>\n",
       "    </tr>\n",
       "  </thead>\n",
       "  <tbody>\n",
       "    <tr>\n",
       "      <th>count</th>\n",
       "      <td>1649161</td>\n",
       "      <td>1649161</td>\n",
       "      <td>481275</td>\n",
       "      <td>1044410</td>\n",
       "      <td>1649161</td>\n",
       "    </tr>\n",
       "    <tr>\n",
       "      <th>unique</th>\n",
       "      <td>52</td>\n",
       "      <td>246</td>\n",
       "      <td>33</td>\n",
       "      <td>14</td>\n",
       "      <td>3</td>\n",
       "    </tr>\n",
       "    <tr>\n",
       "      <th>top</th>\n",
       "      <td>TX</td>\n",
       "      <td>2304</td>\n",
       "      <td>XX</td>\n",
       "      <td>XO</td>\n",
       "      <td>0</td>\n",
       "    </tr>\n",
       "    <tr>\n",
       "      <th>freq</th>\n",
       "      <td>97360</td>\n",
       "      <td>178430</td>\n",
       "      <td>56043</td>\n",
       "      <td>280189</td>\n",
       "      <td>895365</td>\n",
       "    </tr>\n",
       "  </tbody>\n",
       "</table>\n",
       "</div>"
      ],
      "text/plain": [
       "       USASTATE     DEPE MEXSTATE  CANPROV CONTCODE\n",
       "count   1649161  1649161   481275  1044410  1649161\n",
       "unique       52      246       33       14        3\n",
       "top          TX     2304       XX       XO        0\n",
       "freq      97360   178430    56043   280189   895365"
      ]
     },
     "execution_count": 13,
     "metadata": {},
     "output_type": "execute_result"
    }
   ],
   "source": [
    "combined_dot1.describe(include=object)"
   ]
  },
  {
   "cell_type": "code",
   "execution_count": 14,
   "id": "76ed742a-1553-4440-bd10-c8c153f5ac6f",
   "metadata": {
    "tags": []
   },
   "outputs": [
    {
     "data": {
      "text/plain": [
       "27550"
      ]
     },
     "execution_count": 14,
     "metadata": {},
     "output_type": "execute_result"
    }
   ],
   "source": [
    "#Checking for Number of Dulpicates \n",
    "\n",
    "combined_dot1.duplicated().sum()"
   ]
  },
  {
   "cell_type": "code",
   "execution_count": 15,
   "id": "c4e91584-6a33-447c-b2eb-c3b943ed32db",
   "metadata": {
    "tags": []
   },
   "outputs": [
    {
     "data": {
      "text/plain": [
       "(1649161, 14)"
      ]
     },
     "execution_count": 15,
     "metadata": {},
     "output_type": "execute_result"
    }
   ],
   "source": [
    "combined_dot1.shape"
   ]
  },
  {
   "cell_type": "code",
   "execution_count": 16,
   "id": "5d737a66-6784-4d23-8eb3-b7e0e90017f9",
   "metadata": {
    "tags": []
   },
   "outputs": [],
   "source": [
    "#Dropping Duplicates Values\n",
    "combined_dot1 = combined_dot1.drop_duplicates()"
   ]
  },
  {
   "cell_type": "code",
   "execution_count": 17,
   "id": "d5e79ee6-6a5f-4e51-97a2-f71c78982f13",
   "metadata": {
    "tags": []
   },
   "outputs": [
    {
     "data": {
      "text/plain": [
       "(1621611, 14)"
      ]
     },
     "execution_count": 17,
     "metadata": {},
     "output_type": "execute_result"
    }
   ],
   "source": [
    "combined_dot1.shape"
   ]
  },
  {
   "cell_type": "code",
   "execution_count": 18,
   "id": "c1ac22b6-edbe-4bbf-ba99-1aa0b89d10a9",
   "metadata": {
    "tags": []
   },
   "outputs": [
    {
     "data": {
      "text/plain": [
       "0"
      ]
     },
     "execution_count": 18,
     "metadata": {},
     "output_type": "execute_result"
    }
   ],
   "source": [
    "combined_dot1.duplicated().sum()"
   ]
  },
  {
   "cell_type": "code",
   "execution_count": 19,
   "id": "95d7e96c-64a0-4f75-8058-0b4b709d9f57",
   "metadata": {
    "tags": []
   },
   "outputs": [
    {
     "data": {
      "text/plain": [
       "TRDTYPE\n",
       "1    1012540\n",
       "2     609071\n",
       "Name: count, dtype: int64"
      ]
     },
     "execution_count": 19,
     "metadata": {},
     "output_type": "execute_result"
    }
   ],
   "source": [
    "combined_dot1['TRDTYPE'].value_counts()"
   ]
  },
  {
   "cell_type": "code",
   "execution_count": 20,
   "id": "f668c24c-c7f0-480b-84ba-56e2770c626c",
   "metadata": {
    "tags": []
   },
   "outputs": [],
   "source": [
    "combined_dot1.loc[:,'TRDTYPE'] = combined_dot1['TRDTYPE'].replace({1: \"Export\", 2: \"Import\"})"
   ]
  },
  {
   "cell_type": "code",
   "execution_count": 21,
   "id": "121701cd-86c0-43f3-b5bb-b40d0232c128",
   "metadata": {
    "tags": []
   },
   "outputs": [
    {
     "data": {
      "text/plain": [
       "TRDTYPE\n",
       "Export    1012540\n",
       "Import     609071\n",
       "Name: count, dtype: int64"
      ]
     },
     "execution_count": 21,
     "metadata": {},
     "output_type": "execute_result"
    }
   ],
   "source": [
    "combined_dot1['TRDTYPE'].value_counts()"
   ]
  },
  {
   "cell_type": "code",
   "execution_count": 22,
   "id": "253afa6e-c93c-47da-8742-8441a4fa7c49",
   "metadata": {
    "tags": []
   },
   "outputs": [
    {
     "data": {
      "text/plain": [
       "DEPE\n",
       "2304    175472\n",
       "3802     66016\n",
       "20XX     65096\n",
       "0901     57043\n",
       "3401     54745\n",
       "         ...  \n",
       "2481         9\n",
       "3881         5\n",
       "0182         3\n",
       "0152         2\n",
       "3385         1\n",
       "Name: count, Length: 246, dtype: int64"
      ]
     },
     "execution_count": 22,
     "metadata": {},
     "output_type": "execute_result"
    }
   ],
   "source": [
    "combined_dot1['DEPE'].value_counts()"
   ]
  },
  {
   "cell_type": "code",
   "execution_count": 23,
   "id": "c4f6a68e-bf30-4573-8e46-4ed27b99ae82",
   "metadata": {
    "tags": []
   },
   "outputs": [
    {
     "data": {
      "text/plain": [
       "DISAGMOT\n",
       "5    897579\n",
       "3    317681\n",
       "6    238576\n",
       "8    104187\n",
       "1     51474\n",
       "7      6413\n",
       "9      4669\n",
       "4      1032\n",
       "Name: count, dtype: int64"
      ]
     },
     "execution_count": 23,
     "metadata": {},
     "output_type": "execute_result"
    }
   ],
   "source": [
    "combined_dot1['DISAGMOT'].value_counts()"
   ]
  },
  {
   "cell_type": "code",
   "execution_count": 24,
   "id": "8c787cd6-5dc8-4c7c-8acb-7faa00c1fed2",
   "metadata": {
    "tags": []
   },
   "outputs": [],
   "source": [
    "combined_dot1.loc[:, 'DISAGMOT'] = combined_dot1['DISAGMOT'].replace({\n",
    "    1: \"Vessel\",\n",
    "    3: \"Air\",\n",
    "    4: \"Mail\",\n",
    "    5: \"Truck\",\n",
    "    6: \"Rail\",\n",
    "    7: \"Pipeline\",\n",
    "    8: \"Other\",\n",
    "    9: \"Foreign Trade Zones\"\n",
    "})"
   ]
  },
  {
   "cell_type": "code",
   "execution_count": 25,
   "id": "accf3362-ed28-4ff7-8a1b-c464f4f2cb8b",
   "metadata": {
    "tags": []
   },
   "outputs": [
    {
     "data": {
      "text/plain": [
       "DISAGMOT\n",
       "Truck                  897579\n",
       "Air                    317681\n",
       "Rail                   238576\n",
       "Other                  104187\n",
       "Vessel                  51474\n",
       "Pipeline                 6413\n",
       "Foreign Trade Zones      4669\n",
       "Mail                     1032\n",
       "Name: count, dtype: int64"
      ]
     },
     "execution_count": 25,
     "metadata": {},
     "output_type": "execute_result"
    }
   ],
   "source": [
    "combined_dot1['DISAGMOT'].value_counts()"
   ]
  },
  {
   "cell_type": "code",
   "execution_count": 26,
   "id": "8b87a0f4-1f41-4193-b059-1378f72816d1",
   "metadata": {
    "tags": []
   },
   "outputs": [
    {
     "data": {
      "text/plain": [
       "MEXSTATE\n",
       "XX    55082\n",
       "MX    41404\n",
       "NL    33574\n",
       "CH    30881\n",
       "DF    26697\n",
       "JA    26363\n",
       "BC    24366\n",
       "SO    21810\n",
       "TM    21528\n",
       "CO    21456\n",
       "QT    19465\n",
       "OT    18046\n",
       "GT    17379\n",
       "SI    12070\n",
       "SL    11476\n",
       "PU     9949\n",
       "DG     9423\n",
       "AG     9404\n",
       "CM     7757\n",
       "VE     7658\n",
       "HG     7530\n",
       "MI     6082\n",
       "MO     5779\n",
       "TL     4581\n",
       "ZA     4248\n",
       "BS     3796\n",
       "QR     3793\n",
       "YU     3062\n",
       "TB     2265\n",
       "CL     1879\n",
       "OA     1746\n",
       "CS     1520\n",
       "GR     1161\n",
       "Name: count, dtype: int64"
      ]
     },
     "execution_count": 26,
     "metadata": {},
     "output_type": "execute_result"
    }
   ],
   "source": [
    "combined_dot1['MEXSTATE'].value_counts()"
   ]
  },
  {
   "cell_type": "code",
   "execution_count": 27,
   "id": "b7471277-91dc-43c6-8396-284a6f2d93e1",
   "metadata": {
    "tags": []
   },
   "outputs": [
    {
     "data": {
      "text/plain": [
       "CANPROV\n",
       "XO    275473\n",
       "XQ    183573\n",
       "XC    163197\n",
       "XA    147036\n",
       "XM     97218\n",
       "XS     58037\n",
       "XB     52120\n",
       "XN     27490\n",
       "XP     11919\n",
       "XW      9140\n",
       "XY      1116\n",
       "XT       307\n",
       "OT       296\n",
       "XV        77\n",
       "Name: count, dtype: int64"
      ]
     },
     "execution_count": 27,
     "metadata": {},
     "output_type": "execute_result"
    }
   ],
   "source": [
    "combined_dot1['CANPROV'].value_counts()"
   ]
  },
  {
   "cell_type": "code",
   "execution_count": 28,
   "id": "d83e0498-439b-4dc5-9d38-6b07a44725b3",
   "metadata": {
    "tags": []
   },
   "outputs": [],
   "source": [
    "combined_dot1.loc[:,'CANPROV'] = combined_dot1['CANPROV'].replace({\n",
    "    'XA': \"Alberta\",\n",
    "    'XC': \"British Columbia\",\n",
    "    'XM': \"Manitoba\",\n",
    "    'XB': \"New Brunswick\",\n",
    "    'XW': \"Newfoundland\",\n",
    "    'XT': \"Northwest Territories\",\n",
    "    'XN': \"Nova Scotia\",\n",
    "    'XO': \"Ontario\",\n",
    "    'XP': \"Prince Edward Island\",\n",
    "    'XQ': \"Quebec\",\n",
    "    'XS': \"Saskatchewan\",\n",
    "    'XV': \"Nunavut\",\n",
    "    'XY': \"Yukon Territory\",\n",
    "    'OT': \"Province Unknown\"\n",
    "})"
   ]
  },
  {
   "cell_type": "code",
   "execution_count": 29,
   "id": "f2693284-f78f-4b11-ae16-d1ea26c4991a",
   "metadata": {
    "tags": []
   },
   "outputs": [
    {
     "data": {
      "text/plain": [
       "CANPROV\n",
       "Ontario                  275473\n",
       "Quebec                   183573\n",
       "British Columbia         163197\n",
       "Alberta                  147036\n",
       "Manitoba                  97218\n",
       "Saskatchewan              58037\n",
       "New Brunswick             52120\n",
       "Nova Scotia               27490\n",
       "Prince Edward Island      11919\n",
       "Newfoundland               9140\n",
       "Yukon Territory            1116\n",
       "Northwest Territories       307\n",
       "Province Unknown            296\n",
       "Nunavut                      77\n",
       "Name: count, dtype: int64"
      ]
     },
     "execution_count": 29,
     "metadata": {},
     "output_type": "execute_result"
    }
   ],
   "source": [
    "combined_dot1['CANPROV'].value_counts()"
   ]
  },
  {
   "cell_type": "code",
   "execution_count": 30,
   "id": "c3729e7b-4cfd-4c29-9325-51f2cb9cc933",
   "metadata": {
    "tags": []
   },
   "outputs": [
    {
     "data": {
      "text/plain": [
       "COUNTRY\n",
       "1220    1026999\n",
       "2010     594612\n",
       "Name: count, dtype: int64"
      ]
     },
     "execution_count": 30,
     "metadata": {},
     "output_type": "execute_result"
    }
   ],
   "source": [
    "combined_dot1['COUNTRY'].value_counts()"
   ]
  },
  {
   "cell_type": "code",
   "execution_count": 31,
   "id": "b414add7-c596-4c75-96b2-f7db75e086a4",
   "metadata": {
    "tags": []
   },
   "outputs": [],
   "source": [
    "combined_dot1.loc[:, 'COUNTRY'] = combined_dot1['COUNTRY'].replace({1220: \"Canada\", 2010: \"Mexico\"})"
   ]
  },
  {
   "cell_type": "code",
   "execution_count": 32,
   "id": "945778fe-e0f8-4419-8795-45c1335a7070",
   "metadata": {
    "tags": []
   },
   "outputs": [
    {
     "data": {
      "text/plain": [
       "COUNTRY\n",
       "Canada    1026999\n",
       "Mexico     594612\n",
       "Name: count, dtype: int64"
      ]
     },
     "execution_count": 32,
     "metadata": {},
     "output_type": "execute_result"
    }
   ],
   "source": [
    "combined_dot1['COUNTRY'].value_counts()"
   ]
  },
  {
   "cell_type": "code",
   "execution_count": 33,
   "id": "b9caee67-5b99-4804-b8c9-cadbe3921c8c",
   "metadata": {
    "tags": []
   },
   "outputs": [
    {
     "data": {
      "text/plain": [
       "VALUE\n",
       "5000       988\n",
       "3000       980\n",
       "3365       838\n",
       "10000      796\n",
       "4000       751\n",
       "          ... \n",
       "372097       1\n",
       "1242321      1\n",
       "1097006      1\n",
       "9028169      1\n",
       "1430383      1\n",
       "Name: count, Length: 755803, dtype: int64"
      ]
     },
     "execution_count": 33,
     "metadata": {},
     "output_type": "execute_result"
    }
   ],
   "source": [
    "combined_dot1['VALUE'].value_counts()"
   ]
  },
  {
   "cell_type": "code",
   "execution_count": 34,
   "id": "c956b31e-3a96-4b6e-9839-199dccb8ea34",
   "metadata": {
    "tags": []
   },
   "outputs": [
    {
     "data": {
      "text/plain": [
       "SHIPWT\n",
       "0          793951\n",
       "1            8464\n",
       "2            6180\n",
       "3            4529\n",
       "5            4501\n",
       "            ...  \n",
       "2768308         1\n",
       "1967636         1\n",
       "967881          1\n",
       "265331          1\n",
       "353732          1\n",
       "Name: count, Length: 292919, dtype: int64"
      ]
     },
     "execution_count": 34,
     "metadata": {},
     "output_type": "execute_result"
    }
   ],
   "source": [
    "combined_dot1['SHIPWT'].value_counts()"
   ]
  },
  {
   "cell_type": "code",
   "execution_count": 35,
   "id": "e5fd08dd-129d-4e4e-8184-a755fb043ce8",
   "metadata": {
    "tags": []
   },
   "outputs": [
    {
     "data": {
      "text/plain": [
       "FREIGHT_CHARGES\n",
       "0         495216\n",
       "200        15781\n",
       "500        12036\n",
       "100        10603\n",
       "150        10262\n",
       "           ...  \n",
       "358473         1\n",
       "45119          1\n",
       "41155          1\n",
       "372327         1\n",
       "108873         1\n",
       "Name: count, Length: 149535, dtype: int64"
      ]
     },
     "execution_count": 35,
     "metadata": {},
     "output_type": "execute_result"
    }
   ],
   "source": [
    "combined_dot1['FREIGHT_CHARGES'].value_counts()"
   ]
  },
  {
   "cell_type": "code",
   "execution_count": 36,
   "id": "81e7f41d-7587-4d7c-9cdf-bad5fcb82f0e",
   "metadata": {
    "tags": []
   },
   "outputs": [
    {
     "data": {
      "text/plain": [
       "DF\n",
       "1.0    678438\n",
       "2.0    334102\n",
       "Name: count, dtype: int64"
      ]
     },
     "execution_count": 36,
     "metadata": {},
     "output_type": "execute_result"
    }
   ],
   "source": [
    "combined_dot1['DF'].value_counts()"
   ]
  },
  {
   "cell_type": "code",
   "execution_count": 37,
   "id": "26fc4e1b-b375-4ad9-9fb9-e400bd0cf37d",
   "metadata": {
    "tags": []
   },
   "outputs": [],
   "source": [
    "combined_dot1.loc[:, 'DF'] = combined_dot1['DF'].replace({1.0: \"Domestic\", 2.0: \"Foreign\"})"
   ]
  },
  {
   "cell_type": "code",
   "execution_count": 38,
   "id": "8d8e0efb-6468-423c-8c87-c6d4cfbd6431",
   "metadata": {
    "tags": []
   },
   "outputs": [
    {
     "data": {
      "text/plain": [
       "DF\n",
       "Domestic    678438\n",
       "Foreign     334102\n",
       "Name: count, dtype: int64"
      ]
     },
     "execution_count": 38,
     "metadata": {},
     "output_type": "execute_result"
    }
   ],
   "source": [
    "combined_dot1['DF'].value_counts()"
   ]
  },
  {
   "cell_type": "code",
   "execution_count": 39,
   "id": "50489571-1be1-4660-827a-8cce179e8eb9",
   "metadata": {
    "tags": []
   },
   "outputs": [
    {
     "data": {
      "text/plain": [
       "CONTCODE\n",
       "0    880214\n",
       "X    594172\n",
       "1    147225\n",
       "Name: count, dtype: int64"
      ]
     },
     "execution_count": 39,
     "metadata": {},
     "output_type": "execute_result"
    }
   ],
   "source": [
    "combined_dot1['CONTCODE'].value_counts()"
   ]
  },
  {
   "cell_type": "code",
   "execution_count": 40,
   "id": "208917d5-f961-4057-bdfa-7ae3cbea6a9e",
   "metadata": {
    "tags": []
   },
   "outputs": [],
   "source": [
    "combined_dot1.loc[:, 'CONTCODE'] = combined_dot1['CONTCODE'].replace({'0': \"Non-Containerized\", 'X': \"Containerized\", '1': \"Others\"})"
   ]
  },
  {
   "cell_type": "code",
   "execution_count": 41,
   "id": "02829330-16d3-4f21-b7ce-a1591c33f452",
   "metadata": {
    "tags": []
   },
   "outputs": [
    {
     "data": {
      "text/plain": [
       "CONTCODE\n",
       "Non-Containerized    880214\n",
       "Containerized        594172\n",
       "Others               147225\n",
       "Name: count, dtype: int64"
      ]
     },
     "execution_count": 41,
     "metadata": {},
     "output_type": "execute_result"
    }
   ],
   "source": [
    "combined_dot1['CONTCODE'].value_counts()"
   ]
  },
  {
   "cell_type": "code",
   "execution_count": 42,
   "id": "64c1c3a0-7786-4179-9464-dfd22eb0cb62",
   "metadata": {
    "tags": []
   },
   "outputs": [
    {
     "data": {
      "text/plain": [
       "MONTH\n",
       "3.0     142647\n",
       "8.0     139989\n",
       "6.0     139585\n",
       "7.0     139071\n",
       "9.0     139010\n",
       "5.0     138785\n",
       "4.0     137937\n",
       "2.0     136713\n",
       "1.0     134648\n",
       "10.0     85210\n",
       "11.0     84257\n",
       "12.0     82633\n",
       "Name: count, dtype: int64"
      ]
     },
     "execution_count": 42,
     "metadata": {},
     "output_type": "execute_result"
    }
   ],
   "source": [
    "combined_dot1['MONTH'].value_counts()"
   ]
  },
  {
   "cell_type": "code",
   "execution_count": 43,
   "id": "8d0ff461-ba6a-4122-8581-e5e672afa72a",
   "metadata": {
    "tags": []
   },
   "outputs": [],
   "source": [
    "combined_dot1.loc[:, 'MONTH'] = combined_dot1['MONTH'].replace({\n",
    "    1: \"January\", 2: \"February\", 3: \"March\", 4: \"April\",\n",
    "    5: \"May\", 6: \"June\", 7: \"July\", 8: \"August\",\n",
    "    9: \"September\", 10: \"October\", 11: \"November\", 12: \"December\"\n",
    "})\n"
   ]
  },
  {
   "cell_type": "code",
   "execution_count": 44,
   "id": "8fd8d36f-f202-475b-b852-ff587318c3ff",
   "metadata": {
    "tags": []
   },
   "outputs": [
    {
     "data": {
      "text/plain": [
       "MONTH\n",
       "March        142647\n",
       "August       139989\n",
       "June         139585\n",
       "July         139071\n",
       "September    139010\n",
       "May          138785\n",
       "April        137937\n",
       "February     136713\n",
       "January      134648\n",
       "October       85210\n",
       "November      84257\n",
       "December      82633\n",
       "Name: count, dtype: int64"
      ]
     },
     "execution_count": 44,
     "metadata": {},
     "output_type": "execute_result"
    }
   ],
   "source": [
    "combined_dot1['MONTH'].value_counts()"
   ]
  },
  {
   "cell_type": "code",
   "execution_count": 45,
   "id": "8f2a13ab-25f7-400a-87c5-fbf4313888b8",
   "metadata": {
    "tags": []
   },
   "outputs": [
    {
     "data": {
      "text/plain": [
       "YEAR\n",
       "2022    399820\n",
       "2021    386991\n",
       "2023    341668\n",
       "2024    261103\n",
       "2020    232029\n",
       "Name: count, dtype: int64"
      ]
     },
     "execution_count": 45,
     "metadata": {},
     "output_type": "execute_result"
    }
   ],
   "source": [
    "combined_dot1['YEAR'].value_counts()"
   ]
  },
  {
   "cell_type": "code",
   "execution_count": 46,
   "id": "4c308b08-c465-4cf1-962a-7f85ec90b312",
   "metadata": {
    "tags": []
   },
   "outputs": [],
   "source": [
    "combined_dot1.loc[:, 'YEAR'] = combined_dot1['YEAR'].fillna(0).astype(int)"
   ]
  },
  {
   "cell_type": "code",
   "execution_count": 47,
   "id": "a51acaec-aff6-4315-9f5c-1e90feadd352",
   "metadata": {
    "tags": []
   },
   "outputs": [],
   "source": [
    "combined_dot1 = combined_dot1.dropna(subset=['YEAR'])\n",
    "combined_dot1.loc[:, 'YEAR'] = combined_dot1['YEAR'].astype(int)"
   ]
  },
  {
   "cell_type": "code",
   "execution_count": 48,
   "id": "1bbf87ff-a1fd-4f59-9432-beee3b167ad4",
   "metadata": {
    "tags": []
   },
   "outputs": [
    {
     "data": {
      "text/plain": [
       "YEAR\n",
       "2022    399820\n",
       "2021    386991\n",
       "2023    341668\n",
       "2024    261103\n",
       "2020    232029\n",
       "Name: count, dtype: int64"
      ]
     },
     "execution_count": 48,
     "metadata": {},
     "output_type": "execute_result"
    }
   ],
   "source": [
    "combined_dot1['YEAR'].value_counts()"
   ]
  },
  {
   "cell_type": "markdown",
   "id": "431706e6-ed7e-4d5b-b862-a6608011feb9",
   "metadata": {},
   "source": [
    "#### Changing Some Datatypes of some Columns"
   ]
  },
  {
   "cell_type": "code",
   "execution_count": 50,
   "id": "3609e294-3a2e-4d49-8855-c8df3855e5a4",
   "metadata": {
    "tags": []
   },
   "outputs": [],
   "source": [
    "#CHANGING DATATYPES\n",
    "\n",
    "combined_dot1 = combined_dot1.astype({ 'TRDTYPE':'str',\n",
    "                                       'DISAGMOT':'str',\n",
    "                                       'COUNTRY':'str',\n",
    "                                       'DF':'str',\n",
    "                                       'CONTCODE':'str',\n",
    "                                       'MONTH':'str',\n",
    "                                     })"
   ]
  },
  {
   "cell_type": "code",
   "execution_count": 51,
   "id": "c3c4b1c4-3f06-4ac0-a818-f88863a53757",
   "metadata": {
    "tags": []
   },
   "outputs": [
    {
     "name": "stdout",
     "output_type": "stream",
     "text": [
      "<class 'pandas.core.frame.DataFrame'>\n",
      "Index: 1621611 entries, 0 to 1649160\n",
      "Data columns (total 14 columns):\n",
      " #   Column           Non-Null Count    Dtype \n",
      "---  ------           --------------    ----- \n",
      " 0   TRDTYPE          1621611 non-null  object\n",
      " 1   USASTATE         1621611 non-null  object\n",
      " 2   DEPE             1621611 non-null  object\n",
      " 3   DISAGMOT         1621611 non-null  object\n",
      " 4   MEXSTATE         473230 non-null   object\n",
      " 5   CANPROV          1026999 non-null  object\n",
      " 6   COUNTRY          1621611 non-null  object\n",
      " 7   VALUE            1621611 non-null  int64 \n",
      " 8   SHIPWT           1621611 non-null  int64 \n",
      " 9   FREIGHT_CHARGES  1621611 non-null  int64 \n",
      " 10  DF               1621611 non-null  object\n",
      " 11  CONTCODE         1621611 non-null  object\n",
      " 12  MONTH            1621611 non-null  object\n",
      " 13  YEAR             1621611 non-null  int64 \n",
      "dtypes: int64(4), object(10)\n",
      "memory usage: 185.6+ MB\n"
     ]
    }
   ],
   "source": [
    "combined_dot1.info()"
   ]
  },
  {
   "cell_type": "code",
   "execution_count": 52,
   "id": "9929a9dc-b591-4a2b-afb7-6056e723dc95",
   "metadata": {
    "tags": []
   },
   "outputs": [
    {
     "data": {
      "text/plain": [
       "(1621611, 14)"
      ]
     },
     "execution_count": 52,
     "metadata": {},
     "output_type": "execute_result"
    }
   ],
   "source": [
    "combined_dot1.shape"
   ]
  },
  {
   "cell_type": "code",
   "execution_count": 53,
   "id": "64f7d286-89a1-4fa1-8e43-b0585ed51d65",
   "metadata": {
    "tags": []
   },
   "outputs": [
    {
     "data": {
      "text/html": [
       "<div>\n",
       "<style scoped>\n",
       "    .dataframe tbody tr th:only-of-type {\n",
       "        vertical-align: middle;\n",
       "    }\n",
       "\n",
       "    .dataframe tbody tr th {\n",
       "        vertical-align: top;\n",
       "    }\n",
       "\n",
       "    .dataframe thead th {\n",
       "        text-align: right;\n",
       "    }\n",
       "</style>\n",
       "<table border=\"1\" class=\"dataframe\">\n",
       "  <thead>\n",
       "    <tr style=\"text-align: right;\">\n",
       "      <th></th>\n",
       "      <th>VALUE</th>\n",
       "      <th>SHIPWT</th>\n",
       "      <th>FREIGHT_CHARGES</th>\n",
       "      <th>YEAR</th>\n",
       "    </tr>\n",
       "  </thead>\n",
       "  <tbody>\n",
       "    <tr>\n",
       "      <th>count</th>\n",
       "      <td>1.621611e+06</td>\n",
       "      <td>1.621611e+06</td>\n",
       "      <td>1.621611e+06</td>\n",
       "      <td>1.621611e+06</td>\n",
       "    </tr>\n",
       "    <tr>\n",
       "      <th>mean</th>\n",
       "      <td>5.760529e+06</td>\n",
       "      <td>2.344307e+06</td>\n",
       "      <td>7.560707e+04</td>\n",
       "      <td>2.022008e+03</td>\n",
       "    </tr>\n",
       "    <tr>\n",
       "      <th>std</th>\n",
       "      <td>1.114547e+08</td>\n",
       "      <td>1.125783e+08</td>\n",
       "      <td>2.755028e+06</td>\n",
       "      <td>1.290613e+00</td>\n",
       "    </tr>\n",
       "    <tr>\n",
       "      <th>min</th>\n",
       "      <td>0.000000e+00</td>\n",
       "      <td>0.000000e+00</td>\n",
       "      <td>0.000000e+00</td>\n",
       "      <td>2.020000e+03</td>\n",
       "    </tr>\n",
       "    <tr>\n",
       "      <th>25%</th>\n",
       "      <td>2.008800e+04</td>\n",
       "      <td>0.000000e+00</td>\n",
       "      <td>0.000000e+00</td>\n",
       "      <td>2.021000e+03</td>\n",
       "    </tr>\n",
       "    <tr>\n",
       "      <th>50%</th>\n",
       "      <td>1.060020e+05</td>\n",
       "      <td>3.000000e+00</td>\n",
       "      <td>3.950000e+02</td>\n",
       "      <td>2.022000e+03</td>\n",
       "    </tr>\n",
       "    <tr>\n",
       "      <th>75%</th>\n",
       "      <td>7.009690e+05</td>\n",
       "      <td>9.789500e+03</td>\n",
       "      <td>3.958000e+03</td>\n",
       "      <td>2.023000e+03</td>\n",
       "    </tr>\n",
       "    <tr>\n",
       "      <th>max</th>\n",
       "      <td>4.801019e+10</td>\n",
       "      <td>8.395042e+10</td>\n",
       "      <td>2.009334e+09</td>\n",
       "      <td>2.024000e+03</td>\n",
       "    </tr>\n",
       "  </tbody>\n",
       "</table>\n",
       "</div>"
      ],
      "text/plain": [
       "              VALUE        SHIPWT  FREIGHT_CHARGES          YEAR\n",
       "count  1.621611e+06  1.621611e+06     1.621611e+06  1.621611e+06\n",
       "mean   5.760529e+06  2.344307e+06     7.560707e+04  2.022008e+03\n",
       "std    1.114547e+08  1.125783e+08     2.755028e+06  1.290613e+00\n",
       "min    0.000000e+00  0.000000e+00     0.000000e+00  2.020000e+03\n",
       "25%    2.008800e+04  0.000000e+00     0.000000e+00  2.021000e+03\n",
       "50%    1.060020e+05  3.000000e+00     3.950000e+02  2.022000e+03\n",
       "75%    7.009690e+05  9.789500e+03     3.958000e+03  2.023000e+03\n",
       "max    4.801019e+10  8.395042e+10     2.009334e+09  2.024000e+03"
      ]
     },
     "execution_count": 53,
     "metadata": {},
     "output_type": "execute_result"
    }
   ],
   "source": [
    "combined_dot1.describe()"
   ]
  },
  {
   "cell_type": "code",
   "execution_count": 54,
   "id": "a71ffcdb-1b73-4a01-8ee2-14eb8365bed4",
   "metadata": {
    "tags": []
   },
   "outputs": [
    {
     "data": {
      "text/plain": [
       "TRDTYPE                  0\n",
       "USASTATE                 0\n",
       "DEPE                     0\n",
       "DISAGMOT                 0\n",
       "MEXSTATE           1148381\n",
       "CANPROV             594612\n",
       "COUNTRY                  0\n",
       "VALUE                    0\n",
       "SHIPWT                   0\n",
       "FREIGHT_CHARGES          0\n",
       "DF                       0\n",
       "CONTCODE                 0\n",
       "MONTH                    0\n",
       "YEAR                     0\n",
       "dtype: int64"
      ]
     },
     "execution_count": 54,
     "metadata": {},
     "output_type": "execute_result"
    }
   ],
   "source": [
    "combined_dot1.isnull().sum()"
   ]
  },
  {
   "cell_type": "code",
   "execution_count": 55,
   "id": "f9bad17c-ba95-45a4-acb5-11d389728d48",
   "metadata": {
    "tags": []
   },
   "outputs": [
    {
     "data": {
      "image/png": "[encoded data removed]",
      "text/plain": [
       "<Figure size 1000x600 with 1 Axes>"
      ]
     },
     "metadata": {},
     "output_type": "display_data"
    }
   ],
   "source": [
    "#Heatmap to View Missing Data \n",
    "plt.figure(figsize=(10, 6))\n",
    "sns.heatmap(combined_dot1.isnull(), cbar=False, cmap='viridis')\n",
    "plt.title('Missing Data Heatmap')\n",
    "plt.show()"
   ]
  },
  {
   "cell_type": "markdown",
   "id": "7658d18a-1295-4547-9fa0-580e4922529d",
   "metadata": {},
   "source": [
    "### Handling Missing Values "
   ]
  },
  {
   "cell_type": "markdown",
   "id": "877505ed-ef83-4b7d-b6b9-e42238a7b2c1",
   "metadata": {},
   "source": [
    "##### Missing Values in both 'MEXSTATE' and 'CANPROV'"
   ]
  },
  {
   "cell_type": "code",
   "execution_count": 58,
   "id": "73992779-9962-44a0-bf16-fe4904fb291a",
   "metadata": {
    "tags": []
   },
   "outputs": [
    {
     "data": {
      "text/plain": [
       "70.81729218659716"
      ]
     },
     "execution_count": 58,
     "metadata": {},
     "output_type": "execute_result"
    }
   ],
   "source": [
    "#percentage of missing values per 'MEXSTATE' column\n",
    "combined_dot1['MEXSTATE'].isnull().sum()/len(combined_dot1)*100"
   ]
  },
  {
   "cell_type": "code",
   "execution_count": 59,
   "id": "5d4f8996-0f80-443f-8acc-59f3f4adf0b9",
   "metadata": {
    "tags": []
   },
   "outputs": [
    {
     "data": {
      "text/plain": [
       "36.667980175270145"
      ]
     },
     "execution_count": 59,
     "metadata": {},
     "output_type": "execute_result"
    }
   ],
   "source": [
    "#percentage of missing values per 'CANPROV' column\n",
    "combined_dot1['CANPROV'].isnull().sum()/len(combined_dot1)*100"
   ]
  },
  {
   "cell_type": "code",
   "execution_count": 60,
   "id": "2f40b567-29e8-4f3e-85cb-76a2d7c911ec",
   "metadata": {
    "tags": []
   },
   "outputs": [
    {
     "name": "stdout",
     "output_type": "stream",
     "text": [
      "Rows where both MEXSTATE and CANPROV are missing:\n",
      "        TRDTYPE USASTATE  DEPE DISAGMOT MEXSTATE CANPROV COUNTRY   VALUE  \\\n",
      "1035     Export       CA  2304    Truck      NaN     NaN  Mexico  101722   \n",
      "1252     Export       CA  2506    Truck      NaN     NaN  Mexico   26649   \n",
      "1298     Export       CA  2507    Truck      NaN     NaN  Mexico    7000   \n",
      "1344     Export       CA  2604    Truck      NaN     NaN  Mexico   39312   \n",
      "2592     Export       FL  2304    Truck      NaN     NaN  Mexico  131553   \n",
      "...         ...      ...   ...      ...      ...     ...     ...     ...   \n",
      "1649097  Import       WY  2507    Truck      NaN     NaN  Mexico   71848   \n",
      "1649109  Import       WY  30XX    Truck      NaN     NaN  Mexico    7004   \n",
      "1649117  Import       WY  3307      Air      NaN     NaN  Mexico    2050   \n",
      "1649129  Import       WY  33XX    Truck      NaN     NaN  Mexico   23409   \n",
      "1649160  Import       WY  41XX      Air      NaN     NaN  Mexico   11931   \n",
      "\n",
      "         SHIPWT  FREIGHT_CHARGES        DF           CONTCODE      MONTH  YEAR  \n",
      "1035          0                0  Domestic  Non-Containerized      April  2020  \n",
      "1252          0                0  Domestic  Non-Containerized      April  2020  \n",
      "1298          0                0  Domestic  Non-Containerized      April  2020  \n",
      "1344          0                0  Domestic  Non-Containerized      April  2020  \n",
      "2592          0                0  Domestic  Non-Containerized      April  2020  \n",
      "...         ...              ...       ...                ...        ...   ...  \n",
      "1649097   30180               12       nan  Non-Containerized  September  2024  \n",
      "1649109     210               64       nan  Non-Containerized  September  2024  \n",
      "1649117       5                1       nan  Non-Containerized  September  2024  \n",
      "1649129     381              105       nan  Non-Containerized  September  2024  \n",
      "1649160      38              136       nan  Non-Containerized  September  2024  \n",
      "\n",
      "[121382 rows x 14 columns]\n",
      "\n",
      "Total number of rows where both MEXSTATE and CANPROV are missing: 121382\n"
     ]
    }
   ],
   "source": [
    "# Rows where both MEXSTATE and CANPROV are missing\n",
    "both_missing = combined_dot1[pd.isnull(combined_dot1['MEXSTATE']) & pd.isnull(combined_dot1['CANPROV'])]\n",
    "\n",
    "# Count the number of such rows\n",
    "missing_count = both_missing.shape[0]\n",
    "\n",
    "# Display the rows where both MEXSTATE and CANPROV are missing\n",
    "print(\"Rows where both MEXSTATE and CANPROV are missing:\")\n",
    "print(both_missing)\n",
    "\n",
    "# Display the count of rows where both MEXSTATE and CANPROV are missing\n",
    "print(f\"\\nTotal number of rows where both MEXSTATE and CANPROV are missing: {missing_count}\")"
   ]
  },
  {
   "cell_type": "code",
   "execution_count": 61,
   "id": "01258e87-a733-404b-a14c-53e9eeb72cdd",
   "metadata": {
    "tags": []
   },
   "outputs": [
    {
     "data": {
      "text/plain": [
       "7.485272361867304"
      ]
     },
     "execution_count": 61,
     "metadata": {},
     "output_type": "execute_result"
    }
   ],
   "source": [
    "#calculating the percentage of values that have missing data for both 'MEXSTATE' and 'CANPROV'\n",
    "missing_count_percentage = missing_count / len(combined_dot1)*100\n",
    "missing_count_percentage "
   ]
  },
  {
   "cell_type": "code",
   "execution_count": 62,
   "id": "43baba64-db29-4bcb-b39c-4ff4f94520d5",
   "metadata": {
    "tags": []
   },
   "outputs": [
    {
     "data": {
      "text/plain": [
       "TRDTYPE                  0\n",
       "USASTATE                 0\n",
       "DEPE                     0\n",
       "DISAGMOT                 0\n",
       "MEXSTATE           1148381\n",
       "CANPROV             594612\n",
       "COUNTRY                  0\n",
       "VALUE                    0\n",
       "SHIPWT                   0\n",
       "FREIGHT_CHARGES          0\n",
       "DF                       0\n",
       "CONTCODE                 0\n",
       "MONTH                    0\n",
       "YEAR                     0\n",
       "dtype: int64"
      ]
     },
     "execution_count": 62,
     "metadata": {},
     "output_type": "execute_result"
    }
   ],
   "source": [
    "combined_dot1.isnull().sum()"
   ]
  },
  {
   "cell_type": "code",
   "execution_count": 63,
   "id": "a77a92aa-51a7-48c7-802b-309b91b1eda4",
   "metadata": {
    "tags": []
   },
   "outputs": [
    {
     "data": {
      "text/plain": [
       "0.0"
      ]
     },
     "execution_count": 63,
     "metadata": {},
     "output_type": "execute_result"
    }
   ],
   "source": [
    "#percentage of missing values per 'DF' column\n",
    "combined_dot1['DF'].isnull().sum()/len(combined_dot1)*100"
   ]
  },
  {
   "cell_type": "code",
   "execution_count": 64,
   "id": "bbfd4053-0b16-4815-b409-190cb52e482b",
   "metadata": {
    "tags": []
   },
   "outputs": [
    {
     "data": {
      "text/plain": [
       "0.0"
      ]
     },
     "execution_count": 64,
     "metadata": {},
     "output_type": "execute_result"
    }
   ],
   "source": [
    "#percentage of missing values per 'MONTH' column\n",
    "combined_dot1['MONTH'].isnull().sum()/len(combined_dot1)*100"
   ]
  },
  {
   "cell_type": "code",
   "execution_count": 65,
   "id": "4f644d7b-3b1f-4a92-8884-d349fa3382ea",
   "metadata": {
    "tags": []
   },
   "outputs": [],
   "source": [
    "#dropping missing values in the month column as the two files that is; december 2021 and december 2022 folders contained excel sheets which had no months coplumn. that is; dot1_2021 and dot1_2022. these files are not categorized based on month\n",
    "combined_dot1 = combined_dot1.dropna(subset=['MONTH'])"
   ]
  },
  {
   "cell_type": "code",
   "execution_count": 66,
   "id": "e3537926-48ea-4691-8886-48f4e196b0df",
   "metadata": {
    "tags": []
   },
   "outputs": [
    {
     "name": "stdout",
     "output_type": "stream",
     "text": [
      "Rows where both MEXSTATE and CANPROV are missing:\n",
      "        TRDTYPE USASTATE  DEPE DISAGMOT MEXSTATE CANPROV COUNTRY   VALUE  \\\n",
      "1035     Export       CA  2304    Truck      NaN     NaN  Mexico  101722   \n",
      "1252     Export       CA  2506    Truck      NaN     NaN  Mexico   26649   \n",
      "1298     Export       CA  2507    Truck      NaN     NaN  Mexico    7000   \n",
      "1344     Export       CA  2604    Truck      NaN     NaN  Mexico   39312   \n",
      "2592     Export       FL  2304    Truck      NaN     NaN  Mexico  131553   \n",
      "...         ...      ...   ...      ...      ...     ...     ...     ...   \n",
      "1649097  Import       WY  2507    Truck      NaN     NaN  Mexico   71848   \n",
      "1649109  Import       WY  30XX    Truck      NaN     NaN  Mexico    7004   \n",
      "1649117  Import       WY  3307      Air      NaN     NaN  Mexico    2050   \n",
      "1649129  Import       WY  33XX    Truck      NaN     NaN  Mexico   23409   \n",
      "1649160  Import       WY  41XX      Air      NaN     NaN  Mexico   11931   \n",
      "\n",
      "         SHIPWT  FREIGHT_CHARGES        DF           CONTCODE      MONTH  YEAR  \n",
      "1035          0                0  Domestic  Non-Containerized      April  2020  \n",
      "1252          0                0  Domestic  Non-Containerized      April  2020  \n",
      "1298          0                0  Domestic  Non-Containerized      April  2020  \n",
      "1344          0                0  Domestic  Non-Containerized      April  2020  \n",
      "2592          0                0  Domestic  Non-Containerized      April  2020  \n",
      "...         ...              ...       ...                ...        ...   ...  \n",
      "1649097   30180               12       nan  Non-Containerized  September  2024  \n",
      "1649109     210               64       nan  Non-Containerized  September  2024  \n",
      "1649117       5                1       nan  Non-Containerized  September  2024  \n",
      "1649129     381              105       nan  Non-Containerized  September  2024  \n",
      "1649160      38              136       nan  Non-Containerized  September  2024  \n",
      "\n",
      "[121382 rows x 14 columns]\n",
      "\n",
      "Total number of rows where both MEXSTATE and CANPROV are missing: 121382\n"
     ]
    }
   ],
   "source": [
    "#percentage of missing values after handling missing values in month column -\n",
    "# Rows where both MEXSTATE and CANPROV are missing\n",
    "both_missing = combined_dot1[pd.isnull(combined_dot1['MEXSTATE']) & pd.isnull(combined_dot1['CANPROV'])]\n",
    "\n",
    "# Count the number of such rows\n",
    "missing_count = both_missing.shape[0]\n",
    "\n",
    "# Display the rows where both MEXSTATE and CANPROV are missing\n",
    "print(\"Rows where both MEXSTATE and CANPROV are missing:\")\n",
    "print(both_missing)\n",
    "\n",
    "# Display the count of rows where both MEXSTATE and CANPROV are missing\n",
    "print(f\"\\nTotal number of rows where both MEXSTATE and CANPROV are missing: {missing_count}\")"
   ]
  },
  {
   "cell_type": "code",
   "execution_count": 67,
   "id": "f74da015-f845-4d63-bb3e-ba3e9fe0a46b",
   "metadata": {
    "tags": []
   },
   "outputs": [
    {
     "data": {
      "text/plain": [
       "7.485272361867304"
      ]
     },
     "execution_count": 67,
     "metadata": {},
     "output_type": "execute_result"
    }
   ],
   "source": [
    "#calculating the percentage of values that have missing data for both 'MEXSTATE' and 'CANPROV'\n",
    "missing_count_percentage = missing_count / len(combined_dot1)*100\n",
    "missing_count_percentage "
   ]
  },
  {
   "cell_type": "code",
   "execution_count": 68,
   "id": "e77280d2-1627-4085-b2fe-123af0dea5af",
   "metadata": {
    "tags": []
   },
   "outputs": [
    {
     "data": {
      "image/png": "[encoded data removed]",
      "text/plain": [
       "<Figure size 1000x600 with 1 Axes>"
      ]
     },
     "metadata": {},
     "output_type": "display_data"
    }
   ],
   "source": [
    "#Heatmap after handling missing values in month column\n",
    "plt.figure(figsize=(10, 6))\n",
    "sns.heatmap(combined_dot1.isnull(), cbar=False, cmap='viridis')\n",
    "plt.title('Missing Data Heatmap')\n",
    "plt.show()"
   ]
  },
  {
   "cell_type": "markdown",
   "id": "03571918-3d42-4cda-8ad8-aceb96cd1385",
   "metadata": {},
   "source": [
    "##### Missing Values in 'DF' "
   ]
  },
  {
   "cell_type": "code",
   "execution_count": 70,
   "id": "b96983ae-9a9d-4919-9d7b-331f6ec316b6",
   "metadata": {
    "tags": []
   },
   "outputs": [
    {
     "data": {
      "text/plain": [
       "0.0"
      ]
     },
     "execution_count": 70,
     "metadata": {},
     "output_type": "execute_result"
    }
   ],
   "source": [
    "#percentage of missing values per 'DF' column\n",
    "combined_dot1['DF'].isnull().sum()/len(combined_dot1)*100"
   ]
  },
  {
   "cell_type": "code",
   "execution_count": 71,
   "id": "5df1ace6-3d54-4398-858d-a46491974674",
   "metadata": {
    "tags": []
   },
   "outputs": [
    {
     "data": {
      "text/html": [
       "<div>\n",
       "<style scoped>\n",
       "    .dataframe tbody tr th:only-of-type {\n",
       "        vertical-align: middle;\n",
       "    }\n",
       "\n",
       "    .dataframe tbody tr th {\n",
       "        vertical-align: top;\n",
       "    }\n",
       "\n",
       "    .dataframe thead th {\n",
       "        text-align: right;\n",
       "    }\n",
       "</style>\n",
       "<table border=\"1\" class=\"dataframe\">\n",
       "  <thead>\n",
       "    <tr style=\"text-align: right;\">\n",
       "      <th></th>\n",
       "      <th>count</th>\n",
       "      <th>unique</th>\n",
       "      <th>top</th>\n",
       "      <th>freq</th>\n",
       "    </tr>\n",
       "    <tr>\n",
       "      <th>USASTATE</th>\n",
       "      <th></th>\n",
       "      <th></th>\n",
       "      <th></th>\n",
       "      <th></th>\n",
       "    </tr>\n",
       "  </thead>\n",
       "  <tbody>\n",
       "    <tr>\n",
       "      <th>AK</th>\n",
       "      <td>9752</td>\n",
       "      <td>3</td>\n",
       "      <td>nan</td>\n",
       "      <td>5878</td>\n",
       "    </tr>\n",
       "    <tr>\n",
       "      <th>AL</th>\n",
       "      <td>27790</td>\n",
       "      <td>3</td>\n",
       "      <td>Domestic</td>\n",
       "      <td>12407</td>\n",
       "    </tr>\n",
       "    <tr>\n",
       "      <th>AR</th>\n",
       "      <td>21271</td>\n",
       "      <td>3</td>\n",
       "      <td>Domestic</td>\n",
       "      <td>10864</td>\n",
       "    </tr>\n",
       "    <tr>\n",
       "      <th>AZ</th>\n",
       "      <td>37793</td>\n",
       "      <td>3</td>\n",
       "      <td>Domestic</td>\n",
       "      <td>15042</td>\n",
       "    </tr>\n",
       "    <tr>\n",
       "      <th>CA</th>\n",
       "      <td>77861</td>\n",
       "      <td>3</td>\n",
       "      <td>Domestic</td>\n",
       "      <td>33097</td>\n",
       "    </tr>\n",
       "    <tr>\n",
       "      <th>CO</th>\n",
       "      <td>30208</td>\n",
       "      <td>3</td>\n",
       "      <td>Domestic</td>\n",
       "      <td>12770</td>\n",
       "    </tr>\n",
       "    <tr>\n",
       "      <th>CT</th>\n",
       "      <td>28448</td>\n",
       "      <td>3</td>\n",
       "      <td>nan</td>\n",
       "      <td>11210</td>\n",
       "    </tr>\n",
       "    <tr>\n",
       "      <th>DC</th>\n",
       "      <td>3667</td>\n",
       "      <td>3</td>\n",
       "      <td>nan</td>\n",
       "      <td>2481</td>\n",
       "    </tr>\n",
       "    <tr>\n",
       "      <th>DE</th>\n",
       "      <td>14625</td>\n",
       "      <td>3</td>\n",
       "      <td>nan</td>\n",
       "      <td>5976</td>\n",
       "    </tr>\n",
       "    <tr>\n",
       "      <th>DU</th>\n",
       "      <td>9321</td>\n",
       "      <td>3</td>\n",
       "      <td>nan</td>\n",
       "      <td>4840</td>\n",
       "    </tr>\n",
       "    <tr>\n",
       "      <th>FL</th>\n",
       "      <td>51249</td>\n",
       "      <td>3</td>\n",
       "      <td>nan</td>\n",
       "      <td>20581</td>\n",
       "    </tr>\n",
       "    <tr>\n",
       "      <th>GA</th>\n",
       "      <td>48044</td>\n",
       "      <td>3</td>\n",
       "      <td>Domestic</td>\n",
       "      <td>19921</td>\n",
       "    </tr>\n",
       "    <tr>\n",
       "      <th>HI</th>\n",
       "      <td>4960</td>\n",
       "      <td>3</td>\n",
       "      <td>nan</td>\n",
       "      <td>3048</td>\n",
       "    </tr>\n",
       "    <tr>\n",
       "      <th>IA</th>\n",
       "      <td>28379</td>\n",
       "      <td>3</td>\n",
       "      <td>Domestic</td>\n",
       "      <td>14182</td>\n",
       "    </tr>\n",
       "    <tr>\n",
       "      <th>ID</th>\n",
       "      <td>20387</td>\n",
       "      <td>3</td>\n",
       "      <td>nan</td>\n",
       "      <td>9392</td>\n",
       "    </tr>\n",
       "    <tr>\n",
       "      <th>IL</th>\n",
       "      <td>61961</td>\n",
       "      <td>3</td>\n",
       "      <td>Domestic</td>\n",
       "      <td>26957</td>\n",
       "    </tr>\n",
       "    <tr>\n",
       "      <th>IN</th>\n",
       "      <td>41094</td>\n",
       "      <td>3</td>\n",
       "      <td>Domestic</td>\n",
       "      <td>17520</td>\n",
       "    </tr>\n",
       "    <tr>\n",
       "      <th>KS</th>\n",
       "      <td>29076</td>\n",
       "      <td>3</td>\n",
       "      <td>Domestic</td>\n",
       "      <td>13988</td>\n",
       "    </tr>\n",
       "    <tr>\n",
       "      <th>KY</th>\n",
       "      <td>32067</td>\n",
       "      <td>3</td>\n",
       "      <td>Domestic</td>\n",
       "      <td>12822</td>\n",
       "    </tr>\n",
       "    <tr>\n",
       "      <th>LA</th>\n",
       "      <td>26726</td>\n",
       "      <td>3</td>\n",
       "      <td>Domestic</td>\n",
       "      <td>13257</td>\n",
       "    </tr>\n",
       "    <tr>\n",
       "      <th>MA</th>\n",
       "      <td>38047</td>\n",
       "      <td>3</td>\n",
       "      <td>nan</td>\n",
       "      <td>15028</td>\n",
       "    </tr>\n",
       "    <tr>\n",
       "      <th>MD</th>\n",
       "      <td>26020</td>\n",
       "      <td>3</td>\n",
       "      <td>nan</td>\n",
       "      <td>11160</td>\n",
       "    </tr>\n",
       "    <tr>\n",
       "      <th>ME</th>\n",
       "      <td>21191</td>\n",
       "      <td>3</td>\n",
       "      <td>nan</td>\n",
       "      <td>10891</td>\n",
       "    </tr>\n",
       "    <tr>\n",
       "      <th>MI</th>\n",
       "      <td>47179</td>\n",
       "      <td>3</td>\n",
       "      <td>Domestic</td>\n",
       "      <td>19822</td>\n",
       "    </tr>\n",
       "    <tr>\n",
       "      <th>MN</th>\n",
       "      <td>40555</td>\n",
       "      <td>3</td>\n",
       "      <td>Domestic</td>\n",
       "      <td>17614</td>\n",
       "    </tr>\n",
       "    <tr>\n",
       "      <th>MO</th>\n",
       "      <td>34229</td>\n",
       "      <td>3</td>\n",
       "      <td>Domestic</td>\n",
       "      <td>15454</td>\n",
       "    </tr>\n",
       "    <tr>\n",
       "      <th>MS</th>\n",
       "      <td>24549</td>\n",
       "      <td>3</td>\n",
       "      <td>Domestic</td>\n",
       "      <td>10346</td>\n",
       "    </tr>\n",
       "    <tr>\n",
       "      <th>MT</th>\n",
       "      <td>16247</td>\n",
       "      <td>3</td>\n",
       "      <td>nan</td>\n",
       "      <td>8346</td>\n",
       "    </tr>\n",
       "    <tr>\n",
       "      <th>NC</th>\n",
       "      <td>42937</td>\n",
       "      <td>3</td>\n",
       "      <td>Domestic</td>\n",
       "      <td>18145</td>\n",
       "    </tr>\n",
       "    <tr>\n",
       "      <th>ND</th>\n",
       "      <td>17899</td>\n",
       "      <td>3</td>\n",
       "      <td>nan</td>\n",
       "      <td>8400</td>\n",
       "    </tr>\n",
       "    <tr>\n",
       "      <th>NE</th>\n",
       "      <td>22040</td>\n",
       "      <td>3</td>\n",
       "      <td>Domestic</td>\n",
       "      <td>10769</td>\n",
       "    </tr>\n",
       "    <tr>\n",
       "      <th>NH</th>\n",
       "      <td>20197</td>\n",
       "      <td>3</td>\n",
       "      <td>nan</td>\n",
       "      <td>8744</td>\n",
       "    </tr>\n",
       "    <tr>\n",
       "      <th>NJ</th>\n",
       "      <td>42135</td>\n",
       "      <td>3</td>\n",
       "      <td>Domestic</td>\n",
       "      <td>16012</td>\n",
       "    </tr>\n",
       "    <tr>\n",
       "      <th>NM</th>\n",
       "      <td>15091</td>\n",
       "      <td>3</td>\n",
       "      <td>Domestic</td>\n",
       "      <td>6479</td>\n",
       "    </tr>\n",
       "    <tr>\n",
       "      <th>NV</th>\n",
       "      <td>23541</td>\n",
       "      <td>3</td>\n",
       "      <td>nan</td>\n",
       "      <td>9009</td>\n",
       "    </tr>\n",
       "    <tr>\n",
       "      <th>NY</th>\n",
       "      <td>50462</td>\n",
       "      <td>3</td>\n",
       "      <td>nan</td>\n",
       "      <td>20929</td>\n",
       "    </tr>\n",
       "    <tr>\n",
       "      <th>OH</th>\n",
       "      <td>50766</td>\n",
       "      <td>3</td>\n",
       "      <td>Domestic</td>\n",
       "      <td>22422</td>\n",
       "    </tr>\n",
       "    <tr>\n",
       "      <th>OK</th>\n",
       "      <td>25281</td>\n",
       "      <td>3</td>\n",
       "      <td>Domestic</td>\n",
       "      <td>11647</td>\n",
       "    </tr>\n",
       "    <tr>\n",
       "      <th>OR</th>\n",
       "      <td>30387</td>\n",
       "      <td>3</td>\n",
       "      <td>nan</td>\n",
       "      <td>12547</td>\n",
       "    </tr>\n",
       "    <tr>\n",
       "      <th>PA</th>\n",
       "      <td>50204</td>\n",
       "      <td>3</td>\n",
       "      <td>Domestic</td>\n",
       "      <td>21010</td>\n",
       "    </tr>\n",
       "    <tr>\n",
       "      <th>RI</th>\n",
       "      <td>13786</td>\n",
       "      <td>3</td>\n",
       "      <td>nan</td>\n",
       "      <td>5407</td>\n",
       "    </tr>\n",
       "    <tr>\n",
       "      <th>SC</th>\n",
       "      <td>33000</td>\n",
       "      <td>3</td>\n",
       "      <td>Domestic</td>\n",
       "      <td>14072</td>\n",
       "    </tr>\n",
       "    <tr>\n",
       "      <th>SD</th>\n",
       "      <td>15169</td>\n",
       "      <td>3</td>\n",
       "      <td>Domestic</td>\n",
       "      <td>7021</td>\n",
       "    </tr>\n",
       "    <tr>\n",
       "      <th>TN</th>\n",
       "      <td>40142</td>\n",
       "      <td>3</td>\n",
       "      <td>Domestic</td>\n",
       "      <td>16683</td>\n",
       "    </tr>\n",
       "    <tr>\n",
       "      <th>TX</th>\n",
       "      <td>95707</td>\n",
       "      <td>3</td>\n",
       "      <td>Domestic</td>\n",
       "      <td>44510</td>\n",
       "    </tr>\n",
       "    <tr>\n",
       "      <th>UT</th>\n",
       "      <td>25868</td>\n",
       "      <td>3</td>\n",
       "      <td>Domestic</td>\n",
       "      <td>10525</td>\n",
       "    </tr>\n",
       "    <tr>\n",
       "      <th>VA</th>\n",
       "      <td>31742</td>\n",
       "      <td>3</td>\n",
       "      <td>nan</td>\n",
       "      <td>12938</td>\n",
       "    </tr>\n",
       "    <tr>\n",
       "      <th>VT</th>\n",
       "      <td>14744</td>\n",
       "      <td>3</td>\n",
       "      <td>nan</td>\n",
       "      <td>7499</td>\n",
       "    </tr>\n",
       "    <tr>\n",
       "      <th>WA</th>\n",
       "      <td>40486</td>\n",
       "      <td>3</td>\n",
       "      <td>Domestic</td>\n",
       "      <td>16505</td>\n",
       "    </tr>\n",
       "    <tr>\n",
       "      <th>WI</th>\n",
       "      <td>44014</td>\n",
       "      <td>3</td>\n",
       "      <td>Domestic</td>\n",
       "      <td>19064</td>\n",
       "    </tr>\n",
       "    <tr>\n",
       "      <th>WV</th>\n",
       "      <td>12854</td>\n",
       "      <td>3</td>\n",
       "      <td>nan</td>\n",
       "      <td>5631</td>\n",
       "    </tr>\n",
       "    <tr>\n",
       "      <th>WY</th>\n",
       "      <td>10463</td>\n",
       "      <td>3</td>\n",
       "      <td>nan</td>\n",
       "      <td>5068</td>\n",
       "    </tr>\n",
       "  </tbody>\n",
       "</table>\n",
       "</div>"
      ],
      "text/plain": [
       "          count unique       top   freq\n",
       "USASTATE                               \n",
       "AK         9752      3       nan   5878\n",
       "AL        27790      3  Domestic  12407\n",
       "AR        21271      3  Domestic  10864\n",
       "AZ        37793      3  Domestic  15042\n",
       "CA        77861      3  Domestic  33097\n",
       "CO        30208      3  Domestic  12770\n",
       "CT        28448      3       nan  11210\n",
       "DC         3667      3       nan   2481\n",
       "DE        14625      3       nan   5976\n",
       "DU         9321      3       nan   4840\n",
       "FL        51249      3       nan  20581\n",
       "GA        48044      3  Domestic  19921\n",
       "HI         4960      3       nan   3048\n",
       "IA        28379      3  Domestic  14182\n",
       "ID        20387      3       nan   9392\n",
       "IL        61961      3  Domestic  26957\n",
       "IN        41094      3  Domestic  17520\n",
       "KS        29076      3  Domestic  13988\n",
       "KY        32067      3  Domestic  12822\n",
       "LA        26726      3  Domestic  13257\n",
       "MA        38047      3       nan  15028\n",
       "MD        26020      3       nan  11160\n",
       "ME        21191      3       nan  10891\n",
       "MI        47179      3  Domestic  19822\n",
       "MN        40555      3  Domestic  17614\n",
       "MO        34229      3  Domestic  15454\n",
       "MS        24549      3  Domestic  10346\n",
       "MT        16247      3       nan   8346\n",
       "NC        42937      3  Domestic  18145\n",
       "ND        17899      3       nan   8400\n",
       "NE        22040      3  Domestic  10769\n",
       "NH        20197      3       nan   8744\n",
       "NJ        42135      3  Domestic  16012\n",
       "NM        15091      3  Domestic   6479\n",
       "NV        23541      3       nan   9009\n",
       "NY        50462      3       nan  20929\n",
       "OH        50766      3  Domestic  22422\n",
       "OK        25281      3  Domestic  11647\n",
       "OR        30387      3       nan  12547\n",
       "PA        50204      3  Domestic  21010\n",
       "RI        13786      3       nan   5407\n",
       "SC        33000      3  Domestic  14072\n",
       "SD        15169      3  Domestic   7021\n",
       "TN        40142      3  Domestic  16683\n",
       "TX        95707      3  Domestic  44510\n",
       "UT        25868      3  Domestic  10525\n",
       "VA        31742      3       nan  12938\n",
       "VT        14744      3       nan   7499\n",
       "WA        40486      3  Domestic  16505\n",
       "WI        44014      3  Domestic  19064\n",
       "WV        12854      3       nan   5631\n",
       "WY        10463      3       nan   5068"
      ]
     },
     "execution_count": 71,
     "metadata": {},
     "output_type": "execute_result"
    }
   ],
   "source": [
    "# Handling missing values in the 'DF' column\n",
    "combined_dot1.groupby(['USASTATE'])['DF'].describe()"
   ]
  },
  {
   "cell_type": "code",
   "execution_count": 72,
   "id": "e669d4bb-aaac-45c1-b99b-a779794d7374",
   "metadata": {
    "tags": []
   },
   "outputs": [
    {
     "name": "stdout",
     "output_type": "stream",
     "text": [
      "Missing values: 0\n",
      "  TRDTYPE USASTATE  DEPE DISAGMOT MEXSTATE        CANPROV COUNTRY    VALUE  \\\n",
      "0  Export       AK  0115    Truck      NaN  New Brunswick  Canada     4660   \n",
      "1  Export       AK  0901    Truck      NaN        Ontario  Canada    14360   \n",
      "2  Export       AK  20XX   Vessel       XX            NaN  Mexico  4293733   \n",
      "3  Export       AK  20XX      Air      NaN        Alberta  Canada    28283   \n",
      "4  Export       AK  20XX      Air      NaN        Alberta  Canada    29848   \n",
      "\n",
      "     SHIPWT  FREIGHT_CHARGES        DF           CONTCODE  MONTH  YEAR  \n",
      "0         0               67   Foreign      Containerized  April  2020  \n",
      "1         0              282  Domestic      Containerized  April  2020  \n",
      "2  24971000                0  Domestic  Non-Containerized  April  2020  \n",
      "3       443              563  Domestic      Containerized  April  2020  \n",
      "4        69              538   Foreign      Containerized  April  2020  \n"
     ]
    }
   ],
   "source": [
    "# this was done using the mode of 'DF' grouped by 'USASTATE'\n",
    "import pandas as pd\n",
    "from sklearn.impute import SimpleImputer\n",
    "\n",
    "\n",
    "# checking the missing values in the 'DF' column\n",
    "missing_values = combined_dot1['DF'].isna().sum()\n",
    "print(f\"Missing values: {missing_values}\")\n",
    "\n",
    "\n",
    "# Imputing missing values based on 'USASTATE' column\n",
    "combined_dot1['DF'] = combined_dot1.groupby(['USASTATE','TRDTYPE'], group_keys=False)['DF'].apply(lambda x: x.fillna(x.mode()[0]))\n",
    "\n",
    "# If you still have missing values, you can fallback to imputing the mode of the entire column:\n",
    "#imputer = SimpleImputer(strategy='most_frequent')\n",
    "#combined_dot1['DF'] = imputer.fit_transform(combined_dot1[['DF']])\n",
    "\n",
    "print(combined_dot1.head())"
   ]
  },
  {
   "cell_type": "code",
   "execution_count": 73,
   "id": "c031b7cd-2891-4a81-843a-c8d925647b31",
   "metadata": {
    "tags": []
   },
   "outputs": [
    {
     "data": {
      "text/html": [
       "<div>\n",
       "<style scoped>\n",
       "    .dataframe tbody tr th:only-of-type {\n",
       "        vertical-align: middle;\n",
       "    }\n",
       "\n",
       "    .dataframe tbody tr th {\n",
       "        vertical-align: top;\n",
       "    }\n",
       "\n",
       "    .dataframe thead th {\n",
       "        text-align: right;\n",
       "    }\n",
       "</style>\n",
       "<table border=\"1\" class=\"dataframe\">\n",
       "  <thead>\n",
       "    <tr style=\"text-align: right;\">\n",
       "      <th></th>\n",
       "      <th>TRDTYPE</th>\n",
       "      <th>USASTATE</th>\n",
       "      <th>DEPE</th>\n",
       "      <th>DISAGMOT</th>\n",
       "      <th>MEXSTATE</th>\n",
       "      <th>CANPROV</th>\n",
       "      <th>COUNTRY</th>\n",
       "      <th>VALUE</th>\n",
       "      <th>SHIPWT</th>\n",
       "      <th>FREIGHT_CHARGES</th>\n",
       "      <th>DF</th>\n",
       "      <th>CONTCODE</th>\n",
       "      <th>MONTH</th>\n",
       "      <th>YEAR</th>\n",
       "    </tr>\n",
       "  </thead>\n",
       "  <tbody>\n",
       "    <tr>\n",
       "      <th>1649156</th>\n",
       "      <td>Import</td>\n",
       "      <td>WY</td>\n",
       "      <td>4101</td>\n",
       "      <td>Air</td>\n",
       "      <td>NaN</td>\n",
       "      <td>British Columbia</td>\n",
       "      <td>Canada</td>\n",
       "      <td>8869</td>\n",
       "      <td>63</td>\n",
       "      <td>290</td>\n",
       "      <td>nan</td>\n",
       "      <td>Non-Containerized</td>\n",
       "      <td>September</td>\n",
       "      <td>2024</td>\n",
       "    </tr>\n",
       "    <tr>\n",
       "      <th>1649157</th>\n",
       "      <td>Import</td>\n",
       "      <td>WY</td>\n",
       "      <td>4101</td>\n",
       "      <td>Air</td>\n",
       "      <td>NaN</td>\n",
       "      <td>Nova Scotia</td>\n",
       "      <td>Canada</td>\n",
       "      <td>10853</td>\n",
       "      <td>29</td>\n",
       "      <td>72</td>\n",
       "      <td>nan</td>\n",
       "      <td>Non-Containerized</td>\n",
       "      <td>September</td>\n",
       "      <td>2024</td>\n",
       "    </tr>\n",
       "    <tr>\n",
       "      <th>1649158</th>\n",
       "      <td>Import</td>\n",
       "      <td>WY</td>\n",
       "      <td>4101</td>\n",
       "      <td>Air</td>\n",
       "      <td>NaN</td>\n",
       "      <td>Ontario</td>\n",
       "      <td>Canada</td>\n",
       "      <td>59348</td>\n",
       "      <td>307</td>\n",
       "      <td>858</td>\n",
       "      <td>nan</td>\n",
       "      <td>Non-Containerized</td>\n",
       "      <td>September</td>\n",
       "      <td>2024</td>\n",
       "    </tr>\n",
       "    <tr>\n",
       "      <th>1649159</th>\n",
       "      <td>Import</td>\n",
       "      <td>WY</td>\n",
       "      <td>4101</td>\n",
       "      <td>Air</td>\n",
       "      <td>NaN</td>\n",
       "      <td>Quebec</td>\n",
       "      <td>Canada</td>\n",
       "      <td>12689</td>\n",
       "      <td>53</td>\n",
       "      <td>382</td>\n",
       "      <td>nan</td>\n",
       "      <td>Non-Containerized</td>\n",
       "      <td>September</td>\n",
       "      <td>2024</td>\n",
       "    </tr>\n",
       "    <tr>\n",
       "      <th>1649160</th>\n",
       "      <td>Import</td>\n",
       "      <td>WY</td>\n",
       "      <td>41XX</td>\n",
       "      <td>Air</td>\n",
       "      <td>NaN</td>\n",
       "      <td>NaN</td>\n",
       "      <td>Mexico</td>\n",
       "      <td>11931</td>\n",
       "      <td>38</td>\n",
       "      <td>136</td>\n",
       "      <td>nan</td>\n",
       "      <td>Non-Containerized</td>\n",
       "      <td>September</td>\n",
       "      <td>2024</td>\n",
       "    </tr>\n",
       "  </tbody>\n",
       "</table>\n",
       "</div>"
      ],
      "text/plain": [
       "        TRDTYPE USASTATE  DEPE DISAGMOT MEXSTATE           CANPROV COUNTRY  \\\n",
       "1649156  Import       WY  4101      Air      NaN  British Columbia  Canada   \n",
       "1649157  Import       WY  4101      Air      NaN       Nova Scotia  Canada   \n",
       "1649158  Import       WY  4101      Air      NaN           Ontario  Canada   \n",
       "1649159  Import       WY  4101      Air      NaN            Quebec  Canada   \n",
       "1649160  Import       WY  41XX      Air      NaN               NaN  Mexico   \n",
       "\n",
       "         VALUE  SHIPWT  FREIGHT_CHARGES   DF           CONTCODE      MONTH  \\\n",
       "1649156   8869      63              290  nan  Non-Containerized  September   \n",
       "1649157  10853      29               72  nan  Non-Containerized  September   \n",
       "1649158  59348     307              858  nan  Non-Containerized  September   \n",
       "1649159  12689      53              382  nan  Non-Containerized  September   \n",
       "1649160  11931      38              136  nan  Non-Containerized  September   \n",
       "\n",
       "         YEAR  \n",
       "1649156  2024  \n",
       "1649157  2024  \n",
       "1649158  2024  \n",
       "1649159  2024  \n",
       "1649160  2024  "
      ]
     },
     "execution_count": 73,
     "metadata": {},
     "output_type": "execute_result"
    }
   ],
   "source": [
    "combined_dot1.tail()"
   ]
  },
  {
   "cell_type": "code",
   "execution_count": 74,
   "id": "06992d51-7ed5-487e-9987-0ef3d07daa5b",
   "metadata": {
    "tags": []
   },
   "outputs": [
    {
     "data": {
      "text/plain": [
       "TRDTYPE                  0\n",
       "USASTATE                 0\n",
       "DEPE                     0\n",
       "DISAGMOT                 0\n",
       "MEXSTATE           1148381\n",
       "CANPROV             594612\n",
       "COUNTRY                  0\n",
       "VALUE                    0\n",
       "SHIPWT                   0\n",
       "FREIGHT_CHARGES          0\n",
       "DF                       0\n",
       "CONTCODE                 0\n",
       "MONTH                    0\n",
       "YEAR                     0\n",
       "dtype: int64"
      ]
     },
     "execution_count": 74,
     "metadata": {},
     "output_type": "execute_result"
    }
   ],
   "source": [
    "combined_dot1.isnull().sum()"
   ]
  },
  {
   "cell_type": "code",
   "execution_count": 75,
   "id": "5ddf55ef-8e10-4610-9cf1-6ad79010e1b7",
   "metadata": {
    "tags": []
   },
   "outputs": [
    {
     "data": {
      "image/png": "[encoded data removed]",
      "text/plain": [
       "<Figure size 1000x600 with 1 Axes>"
      ]
     },
     "metadata": {},
     "output_type": "display_data"
    }
   ],
   "source": [
    "#Heatmap after handling missing values in month column\n",
    "plt.figure(figsize=(10, 6))\n",
    "sns.heatmap(combined_dot1.isnull(), cbar=False, cmap='viridis')\n",
    "plt.title('Missing Data Heatmap')\n",
    "plt.show()"
   ]
  },
  {
   "cell_type": "code",
   "execution_count": 76,
   "id": "7a1f7eb7-a171-4220-af00-05c2d6a6483a",
   "metadata": {
    "tags": []
   },
   "outputs": [
    {
     "data": {
      "text/plain": [
       "TRDTYPE\n",
       "Export    1012540\n",
       "Import     609071\n",
       "Name: count, dtype: int64"
      ]
     },
     "execution_count": 76,
     "metadata": {},
     "output_type": "execute_result"
    }
   ],
   "source": [
    "combined_dot1['TRDTYPE'].value_counts()"
   ]
  },
  {
   "cell_type": "code",
   "execution_count": 77,
   "id": "648717a8-c5f1-4d0d-aa40-52ba4f1856f1",
   "metadata": {
    "tags": []
   },
   "outputs": [],
   "source": [
    "# Renaming values in theb 'TRDTYPE' column\n",
    "combined_dot1[\"TRDTYPE\"] = combined_dot1[\"TRDTYPE\"].replace({1: 'Export',\n",
    "    2: 'Import'})"
   ]
  },
  {
   "cell_type": "code",
   "execution_count": 78,
   "id": "c2857c6a-3298-447b-99f0-90fbe61b4bb8",
   "metadata": {
    "tags": []
   },
   "outputs": [
    {
     "data": {
      "text/plain": [
       "TRDTYPE\n",
       "Export    1012540\n",
       "Import     609071\n",
       "Name: count, dtype: int64"
      ]
     },
     "execution_count": 78,
     "metadata": {},
     "output_type": "execute_result"
    }
   ],
   "source": [
    "combined_dot1['TRDTYPE'].value_counts()"
   ]
  },
  {
   "cell_type": "code",
   "execution_count": 79,
   "id": "f69e4f66-ef5f-4e51-a29a-d378f853a3c5",
   "metadata": {
    "tags": []
   },
   "outputs": [
    {
     "data": {
      "text/plain": [
       "USASTATE\n",
       "TX    95707\n",
       "CA    77861\n",
       "IL    61961\n",
       "FL    51249\n",
       "OH    50766\n",
       "NY    50462\n",
       "PA    50204\n",
       "GA    48044\n",
       "MI    47179\n",
       "WI    44014\n",
       "NC    42937\n",
       "NJ    42135\n",
       "IN    41094\n",
       "MN    40555\n",
       "WA    40486\n",
       "TN    40142\n",
       "MA    38047\n",
       "AZ    37793\n",
       "MO    34229\n",
       "SC    33000\n",
       "KY    32067\n",
       "VA    31742\n",
       "OR    30387\n",
       "CO    30208\n",
       "KS    29076\n",
       "CT    28448\n",
       "IA    28379\n",
       "AL    27790\n",
       "LA    26726\n",
       "MD    26020\n",
       "UT    25868\n",
       "OK    25281\n",
       "MS    24549\n",
       "NV    23541\n",
       "NE    22040\n",
       "AR    21271\n",
       "ME    21191\n",
       "ID    20387\n",
       "NH    20197\n",
       "ND    17899\n",
       "MT    16247\n",
       "SD    15169\n",
       "NM    15091\n",
       "VT    14744\n",
       "DE    14625\n",
       "RI    13786\n",
       "WV    12854\n",
       "WY    10463\n",
       "AK     9752\n",
       "DU     9321\n",
       "HI     4960\n",
       "DC     3667\n",
       "Name: count, dtype: int64"
      ]
     },
     "execution_count": 79,
     "metadata": {},
     "output_type": "execute_result"
    }
   ],
   "source": [
    "combined_dot1['USASTATE'].value_counts()"
   ]
  },
  {
   "cell_type": "code",
   "execution_count": 80,
   "id": "015d0f92-1b41-46c6-87f6-cf998595b71b",
   "metadata": {
    "tags": []
   },
   "outputs": [
    {
     "data": {
      "text/plain": [
       "DEPE\n",
       "2304    175472\n",
       "3802     66016\n",
       "20XX     65096\n",
       "0901     57043\n",
       "3401     54745\n",
       "         ...  \n",
       "2481         9\n",
       "3881         5\n",
       "0182         3\n",
       "0152         2\n",
       "3385         1\n",
       "Name: count, Length: 246, dtype: int64"
      ]
     },
     "execution_count": 80,
     "metadata": {},
     "output_type": "execute_result"
    }
   ],
   "source": [
    "combined_dot1['DEPE'].value_counts()"
   ]
  },
  {
   "cell_type": "code",
   "execution_count": 81,
   "id": "fe90c1f7-c5b2-4bab-a580-9e7f58c84d12",
   "metadata": {
    "tags": []
   },
   "outputs": [
    {
     "data": {
      "text/plain": [
       "DISAGMOT\n",
       "Truck                  897579\n",
       "Air                    317681\n",
       "Rail                   238576\n",
       "Other                  104187\n",
       "Vessel                  51474\n",
       "Pipeline                 6413\n",
       "Foreign Trade Zones      4669\n",
       "Mail                     1032\n",
       "Name: count, dtype: int64"
      ]
     },
     "execution_count": 81,
     "metadata": {},
     "output_type": "execute_result"
    }
   ],
   "source": [
    "combined_dot1['DISAGMOT'].value_counts()"
   ]
  },
  {
   "cell_type": "code",
   "execution_count": 82,
   "id": "23b84f14-3a68-412b-a516-9f7d3e28a880",
   "metadata": {
    "tags": []
   },
   "outputs": [],
   "source": [
    "# renaming values in the 'DISAGMOT' column #FTZ = Foreign Trade Zones\n",
    "combined_dot1[\"DISAGMOT\"] = combined_dot1[\"DISAGMOT\"].replace({1: 'Vessel',\n",
    "    3: 'Air',\n",
    "    4: 'Mail',\n",
    "    5: 'Truck',\n",
    "    6: 'Rail',\n",
    "    7: 'Pipeline',\n",
    "    8: 'Other',\n",
    "    9: 'FTZs'\n",
    "    })"
   ]
  },
  {
   "cell_type": "code",
   "execution_count": 83,
   "id": "ff54f4b6-1f90-47e7-9665-58690db467ab",
   "metadata": {
    "tags": []
   },
   "outputs": [
    {
     "data": {
      "text/plain": [
       "DISAGMOT\n",
       "Truck                  897579\n",
       "Air                    317681\n",
       "Rail                   238576\n",
       "Other                  104187\n",
       "Vessel                  51474\n",
       "Pipeline                 6413\n",
       "Foreign Trade Zones      4669\n",
       "Mail                     1032\n",
       "Name: count, dtype: int64"
      ]
     },
     "execution_count": 83,
     "metadata": {},
     "output_type": "execute_result"
    }
   ],
   "source": [
    "combined_dot1['DISAGMOT'].value_counts()"
   ]
  },
  {
   "cell_type": "code",
   "execution_count": 84,
   "id": "5d6d9c38-785c-49e8-b0cc-1a44429b24af",
   "metadata": {
    "tags": []
   },
   "outputs": [
    {
     "data": {
      "text/plain": [
       "MEXSTATE\n",
       "XX    55082\n",
       "MX    41404\n",
       "NL    33574\n",
       "CH    30881\n",
       "DF    26697\n",
       "JA    26363\n",
       "BC    24366\n",
       "SO    21810\n",
       "TM    21528\n",
       "CO    21456\n",
       "QT    19465\n",
       "OT    18046\n",
       "GT    17379\n",
       "SI    12070\n",
       "SL    11476\n",
       "PU     9949\n",
       "DG     9423\n",
       "AG     9404\n",
       "CM     7757\n",
       "VE     7658\n",
       "HG     7530\n",
       "MI     6082\n",
       "MO     5779\n",
       "TL     4581\n",
       "ZA     4248\n",
       "BS     3796\n",
       "QR     3793\n",
       "YU     3062\n",
       "TB     2265\n",
       "CL     1879\n",
       "OA     1746\n",
       "CS     1520\n",
       "GR     1161\n",
       "Name: count, dtype: int64"
      ]
     },
     "execution_count": 84,
     "metadata": {},
     "output_type": "execute_result"
    }
   ],
   "source": [
    "combined_dot1['MEXSTATE'].value_counts()"
   ]
  },
  {
   "cell_type": "code",
   "execution_count": 85,
   "id": "a0c408d8-e090-48c2-b921-5e322bc4cd83",
   "metadata": {
    "tags": []
   },
   "outputs": [
    {
     "data": {
      "text/plain": [
       "CANPROV\n",
       "Ontario                  275473\n",
       "Quebec                   183573\n",
       "British Columbia         163197\n",
       "Alberta                  147036\n",
       "Manitoba                  97218\n",
       "Saskatchewan              58037\n",
       "New Brunswick             52120\n",
       "Nova Scotia               27490\n",
       "Prince Edward Island      11919\n",
       "Newfoundland               9140\n",
       "Yukon Territory            1116\n",
       "Northwest Territories       307\n",
       "Province Unknown            296\n",
       "Nunavut                      77\n",
       "Name: count, dtype: int64"
      ]
     },
     "execution_count": 85,
     "metadata": {},
     "output_type": "execute_result"
    }
   ],
   "source": [
    "combined_dot1['CANPROV'].value_counts()"
   ]
  },
  {
   "cell_type": "code",
   "execution_count": 86,
   "id": "6f32925f-9c0c-4f58-87d9-af22f57e391d",
   "metadata": {
    "tags": []
   },
   "outputs": [
    {
     "data": {
      "text/plain": [
       "COUNTRY\n",
       "Canada    1026999\n",
       "Mexico     594612\n",
       "Name: count, dtype: int64"
      ]
     },
     "execution_count": 86,
     "metadata": {},
     "output_type": "execute_result"
    }
   ],
   "source": [
    "combined_dot1['COUNTRY'].value_counts()"
   ]
  },
  {
   "cell_type": "code",
   "execution_count": 87,
   "id": "0f458f9d-1c72-44d3-87ff-22ce95b89eea",
   "metadata": {
    "tags": []
   },
   "outputs": [],
   "source": [
    "# Renaming values in the 'COUNTRY' column\n",
    "combined_dot1[\"COUNTRY\"] = combined_dot1[\"COUNTRY\"].replace({1220: 'Canada',\n",
    "    2010: 'Mexico'})"
   ]
  },
  {
   "cell_type": "code",
   "execution_count": 88,
   "id": "f434977d-7ec5-47fc-9a8e-95dd3282d3e4",
   "metadata": {
    "tags": []
   },
   "outputs": [
    {
     "data": {
      "text/plain": [
       "COUNTRY\n",
       "Canada    1026999\n",
       "Mexico     594612\n",
       "Name: count, dtype: int64"
      ]
     },
     "execution_count": 88,
     "metadata": {},
     "output_type": "execute_result"
    }
   ],
   "source": [
    "combined_dot1['COUNTRY'].value_counts()"
   ]
  },
  {
   "cell_type": "code",
   "execution_count": 89,
   "id": "596089a8-af12-4b16-90cb-8f4d2b6ca93f",
   "metadata": {
    "tags": []
   },
   "outputs": [
    {
     "data": {
      "text/plain": [
       "1621611"
      ]
     },
     "execution_count": 89,
     "metadata": {},
     "output_type": "execute_result"
    }
   ],
   "source": [
    "combined_dot1['VALUE'].count()"
   ]
  },
  {
   "cell_type": "code",
   "execution_count": 90,
   "id": "06d64c8d-0a19-42e2-b0e5-7486c7fa84b9",
   "metadata": {
    "tags": []
   },
   "outputs": [
    {
     "data": {
      "text/plain": [
       "1621611"
      ]
     },
     "execution_count": 90,
     "metadata": {},
     "output_type": "execute_result"
    }
   ],
   "source": [
    "combined_dot1['SHIPWT'].count()"
   ]
  },
  {
   "cell_type": "code",
   "execution_count": 91,
   "id": "11addc66-1e2e-459e-905c-48cba2fdd4cd",
   "metadata": {
    "tags": []
   },
   "outputs": [
    {
     "data": {
      "text/plain": [
       "1621611"
      ]
     },
     "execution_count": 91,
     "metadata": {},
     "output_type": "execute_result"
    }
   ],
   "source": [
    "combined_dot1['FREIGHT_CHARGES'].count()"
   ]
  },
  {
   "cell_type": "code",
   "execution_count": 92,
   "id": "9d32cc05-376c-4cc2-8521-1950e9381636",
   "metadata": {
    "tags": []
   },
   "outputs": [
    {
     "data": {
      "text/plain": [
       "DF\n",
       "Domestic    678438\n",
       "nan         609071\n",
       "Foreign     334102\n",
       "Name: count, dtype: int64"
      ]
     },
     "execution_count": 92,
     "metadata": {},
     "output_type": "execute_result"
    }
   ],
   "source": [
    "combined_dot1['DF'].value_counts()"
   ]
  },
  {
   "cell_type": "code",
   "execution_count": 93,
   "id": "f0686fa6-64ca-4ce6-9478-0fa01b08172f",
   "metadata": {
    "tags": []
   },
   "outputs": [],
   "source": [
    "# Renaming values in the 'DF' column\n",
    "combined_dot1[\"DF\"] = combined_dot1[\"DF\"].replace({1.0: 'Domestic',\n",
    "    2.0: 'Foreign'})"
   ]
  },
  {
   "cell_type": "code",
   "execution_count": 94,
   "id": "89f09240-bb50-4c1f-ac45-b3b6b4493675",
   "metadata": {
    "tags": []
   },
   "outputs": [
    {
     "data": {
      "text/plain": [
       "DF\n",
       "Domestic    678438\n",
       "nan         609071\n",
       "Foreign     334102\n",
       "Name: count, dtype: int64"
      ]
     },
     "execution_count": 94,
     "metadata": {},
     "output_type": "execute_result"
    }
   ],
   "source": [
    "combined_dot1['DF'].value_counts()"
   ]
  },
  {
   "cell_type": "code",
   "execution_count": 95,
   "id": "7211c2e6-145d-4ceb-9475-cb48960387fb",
   "metadata": {
    "tags": []
   },
   "outputs": [
    {
     "data": {
      "text/plain": [
       "CONTCODE\n",
       "Non-Containerized    880214\n",
       "Containerized        594172\n",
       "Others               147225\n",
       "Name: count, dtype: int64"
      ]
     },
     "execution_count": 95,
     "metadata": {},
     "output_type": "execute_result"
    }
   ],
   "source": [
    "combined_dot1['CONTCODE'].value_counts()"
   ]
  },
  {
   "cell_type": "code",
   "execution_count": 96,
   "id": "83e50cca-8eeb-46b4-8365-d1ea8b089fdb",
   "metadata": {
    "tags": []
   },
   "outputs": [],
   "source": [
    "# Renaming values in the 'CONTCODE' column\n",
    "combined_dot1[\"CONTCODE\"] = combined_dot1[\"CONTCODE\"].replace({'X': 'Containerized',\n",
    "    '0':'Non_Containerized', '1':'Others'})"
   ]
  },
  {
   "cell_type": "code",
   "execution_count": 97,
   "id": "9e28d2d6-8cf9-428a-8eb7-059d88eb68fd",
   "metadata": {
    "tags": []
   },
   "outputs": [
    {
     "data": {
      "text/plain": [
       "CONTCODE\n",
       "Non-Containerized    880214\n",
       "Containerized        594172\n",
       "Others               147225\n",
       "Name: count, dtype: int64"
      ]
     },
     "execution_count": 97,
     "metadata": {},
     "output_type": "execute_result"
    }
   ],
   "source": [
    "combined_dot1['CONTCODE'].value_counts()"
   ]
  },
  {
   "cell_type": "markdown",
   "id": "ae6fddc8-77e1-419a-a70f-5d0363b288a5",
   "metadata": {},
   "source": [
    "#### Missing Values in 'MONTH'"
   ]
  },
  {
   "cell_type": "markdown",
   "id": "1e172291-1e20-4527-b7b1-5e4965c0d081",
   "metadata": {},
   "source": [
    "###### The Values in the month column were dropped as two as the two files that is: December 2021 and December 2022 folders contained excel sheets which had no months column. that is: dot1_2021 and dot1_2022. these files are not catergorized based on month "
   ]
  },
  {
   "cell_type": "code",
   "execution_count": 100,
   "id": "0c33f610-db65-4494-a904-ca47badb74a1",
   "metadata": {
    "tags": []
   },
   "outputs": [
    {
     "data": {
      "text/plain": [
       "MONTH\n",
       "March        142647\n",
       "August       139989\n",
       "June         139585\n",
       "July         139071\n",
       "September    139010\n",
       "May          138785\n",
       "April        137937\n",
       "February     136713\n",
       "January      134648\n",
       "nan          121126\n",
       "October       85210\n",
       "November      84257\n",
       "December      82633\n",
       "Name: count, dtype: int64"
      ]
     },
     "execution_count": 100,
     "metadata": {},
     "output_type": "execute_result"
    }
   ],
   "source": [
    "combined_dot1['MONTH'].value_counts()"
   ]
  },
  {
   "cell_type": "code",
   "execution_count": 101,
   "id": "800c804d-8f2d-46e9-a91d-1e3621256c95",
   "metadata": {
    "tags": []
   },
   "outputs": [
    {
     "name": "stdout",
     "output_type": "stream",
     "text": [
      "<class 'pandas.core.frame.DataFrame'>\n",
      "Index: 1621611 entries, 0 to 1649160\n",
      "Data columns (total 14 columns):\n",
      " #   Column           Non-Null Count    Dtype \n",
      "---  ------           --------------    ----- \n",
      " 0   TRDTYPE          1621611 non-null  object\n",
      " 1   USASTATE         1621611 non-null  object\n",
      " 2   DEPE             1621611 non-null  object\n",
      " 3   DISAGMOT         1621611 non-null  object\n",
      " 4   MEXSTATE         473230 non-null   object\n",
      " 5   CANPROV          1026999 non-null  object\n",
      " 6   COUNTRY          1621611 non-null  object\n",
      " 7   VALUE            1621611 non-null  int64 \n",
      " 8   SHIPWT           1621611 non-null  int64 \n",
      " 9   FREIGHT_CHARGES  1621611 non-null  int64 \n",
      " 10  DF               1621611 non-null  object\n",
      " 11  CONTCODE         1621611 non-null  object\n",
      " 12  MONTH            1621611 non-null  object\n",
      " 13  YEAR             1621611 non-null  int64 \n",
      "dtypes: int64(4), object(10)\n",
      "memory usage: 185.6+ MB\n"
     ]
    }
   ],
   "source": [
    "combined_dot1.info()"
   ]
  },
  {
   "cell_type": "markdown",
   "id": "80126e80-08b1-4529-81c0-1dd7b3063928",
   "metadata": {},
   "source": [
    "#### Data Cleaning and Validation"
   ]
  },
  {
   "cell_type": "code",
   "execution_count": 103,
   "id": "fff4cceb-2058-4027-b3e3-f7e5cfefa59a",
   "metadata": {
    "tags": []
   },
   "outputs": [
    {
     "data": {
      "text/plain": [
       "TRDTYPE                  0\n",
       "USASTATE                 0\n",
       "DEPE                     0\n",
       "DISAGMOT                 0\n",
       "MEXSTATE           1148381\n",
       "CANPROV             594612\n",
       "COUNTRY                  0\n",
       "VALUE                    0\n",
       "SHIPWT                   0\n",
       "FREIGHT_CHARGES          0\n",
       "DF                       0\n",
       "CONTCODE                 0\n",
       "MONTH                    0\n",
       "YEAR                     0\n",
       "dtype: int64"
      ]
     },
     "execution_count": 103,
     "metadata": {},
     "output_type": "execute_result"
    }
   ],
   "source": [
    "combined_dot1.isna().sum()"
   ]
  },
  {
   "cell_type": "code",
   "execution_count": 104,
   "id": "7bf199eb-6f6c-4b30-917b-67f62ce2715a",
   "metadata": {
    "tags": []
   },
   "outputs": [
    {
     "data": {
      "text/plain": [
       "array(['April', 'August', 'February', 'January', 'July', 'June', 'March',\n",
       "       'May', 'September', 'December', 'nan', 'November', 'October'],\n",
       "      dtype=object)"
      ]
     },
     "execution_count": 104,
     "metadata": {},
     "output_type": "execute_result"
    }
   ],
   "source": [
    "combined_dot1['MONTH'].unique()"
   ]
  },
  {
   "cell_type": "code",
   "execution_count": 105,
   "id": "025f1b93-3a72-453c-8b01-12ce1a8a8718",
   "metadata": {
    "tags": []
   },
   "outputs": [
    {
     "data": {
      "text/plain": [
       "array(['Foreign', 'Domestic', 'nan'], dtype=object)"
      ]
     },
     "execution_count": 105,
     "metadata": {},
     "output_type": "execute_result"
    }
   ],
   "source": [
    "combined_dot1['DF'].unique()"
   ]
  },
  {
   "cell_type": "code",
   "execution_count": 106,
   "id": "c6e28cbf-7386-4e20-be52-76319781277c",
   "metadata": {
    "tags": []
   },
   "outputs": [
    {
     "data": {
      "text/plain": [
       "array(['April', 'August', 'February', 'January', 'July', 'June', 'March',\n",
       "       'May', 'September', 'December', 'nan', 'November', 'October'],\n",
       "      dtype=object)"
      ]
     },
     "execution_count": 106,
     "metadata": {},
     "output_type": "execute_result"
    }
   ],
   "source": [
    "combined_dot1['MONTH'].unique()"
   ]
  },
  {
   "cell_type": "code",
   "execution_count": 107,
   "id": "51b100c6-2b37-4c43-a386-1994be678f8a",
   "metadata": {
    "tags": []
   },
   "outputs": [
    {
     "data": {
      "text/html": [
       "<div>\n",
       "<style scoped>\n",
       "    .dataframe tbody tr th:only-of-type {\n",
       "        vertical-align: middle;\n",
       "    }\n",
       "\n",
       "    .dataframe tbody tr th {\n",
       "        vertical-align: top;\n",
       "    }\n",
       "\n",
       "    .dataframe thead th {\n",
       "        text-align: right;\n",
       "    }\n",
       "</style>\n",
       "<table border=\"1\" class=\"dataframe\">\n",
       "  <thead>\n",
       "    <tr style=\"text-align: right;\">\n",
       "      <th></th>\n",
       "      <th>TRDTYPE</th>\n",
       "      <th>USASTATE</th>\n",
       "      <th>DEPE</th>\n",
       "      <th>DISAGMOT</th>\n",
       "      <th>MEXSTATE</th>\n",
       "      <th>CANPROV</th>\n",
       "      <th>COUNTRY</th>\n",
       "      <th>DF</th>\n",
       "      <th>CONTCODE</th>\n",
       "      <th>MONTH</th>\n",
       "    </tr>\n",
       "  </thead>\n",
       "  <tbody>\n",
       "    <tr>\n",
       "      <th>count</th>\n",
       "      <td>1621611</td>\n",
       "      <td>1621611</td>\n",
       "      <td>1621611</td>\n",
       "      <td>1621611</td>\n",
       "      <td>473230</td>\n",
       "      <td>1026999</td>\n",
       "      <td>1621611</td>\n",
       "      <td>1621611</td>\n",
       "      <td>1621611</td>\n",
       "      <td>1621611</td>\n",
       "    </tr>\n",
       "    <tr>\n",
       "      <th>unique</th>\n",
       "      <td>2</td>\n",
       "      <td>52</td>\n",
       "      <td>246</td>\n",
       "      <td>8</td>\n",
       "      <td>33</td>\n",
       "      <td>14</td>\n",
       "      <td>2</td>\n",
       "      <td>3</td>\n",
       "      <td>3</td>\n",
       "      <td>13</td>\n",
       "    </tr>\n",
       "    <tr>\n",
       "      <th>top</th>\n",
       "      <td>Export</td>\n",
       "      <td>TX</td>\n",
       "      <td>2304</td>\n",
       "      <td>Truck</td>\n",
       "      <td>XX</td>\n",
       "      <td>Ontario</td>\n",
       "      <td>Canada</td>\n",
       "      <td>Domestic</td>\n",
       "      <td>Non-Containerized</td>\n",
       "      <td>March</td>\n",
       "    </tr>\n",
       "    <tr>\n",
       "      <th>freq</th>\n",
       "      <td>1012540</td>\n",
       "      <td>95707</td>\n",
       "      <td>175472</td>\n",
       "      <td>897579</td>\n",
       "      <td>55082</td>\n",
       "      <td>275473</td>\n",
       "      <td>1026999</td>\n",
       "      <td>678438</td>\n",
       "      <td>880214</td>\n",
       "      <td>142647</td>\n",
       "    </tr>\n",
       "  </tbody>\n",
       "</table>\n",
       "</div>"
      ],
      "text/plain": [
       "        TRDTYPE USASTATE     DEPE DISAGMOT MEXSTATE  CANPROV  COUNTRY  \\\n",
       "count   1621611  1621611  1621611  1621611   473230  1026999  1621611   \n",
       "unique        2       52      246        8       33       14        2   \n",
       "top      Export       TX     2304    Truck       XX  Ontario   Canada   \n",
       "freq    1012540    95707   175472   897579    55082   275473  1026999   \n",
       "\n",
       "              DF           CONTCODE    MONTH  \n",
       "count    1621611            1621611  1621611  \n",
       "unique         3                  3       13  \n",
       "top     Domestic  Non-Containerized    March  \n",
       "freq      678438             880214   142647  "
      ]
     },
     "execution_count": 107,
     "metadata": {},
     "output_type": "execute_result"
    }
   ],
   "source": [
    "#describing the categorical variables\n",
    "combined_dot1.describe(include='object')"
   ]
  },
  {
   "cell_type": "code",
   "execution_count": 108,
   "id": "46c28000-2592-4120-bed9-df8e9511ba6f",
   "metadata": {
    "tags": []
   },
   "outputs": [
    {
     "data": {
      "text/plain": [
       "array([nan, 'XX', 'CO', 'NL', 'CH', 'CM', 'GT', 'JA', 'MX', 'OT', 'QT',\n",
       "       'SL', 'BC', 'BS', 'DF', 'TM', 'ZA', 'DG', 'HG', 'SO', 'AG', 'MI',\n",
       "       'MO', 'PU', 'TL', 'VE', 'SI', 'YU', 'TB', 'CS', 'CL', 'OA', 'QR',\n",
       "       'GR'], dtype=object)"
      ]
     },
     "execution_count": 108,
     "metadata": {},
     "output_type": "execute_result"
    }
   ],
   "source": [
    "combined_dot1['MEXSTATE'].unique()"
   ]
  },
  {
   "cell_type": "code",
   "execution_count": 109,
   "id": "82790f41-6de4-465f-ab0b-30fa6db6d543",
   "metadata": {
    "tags": []
   },
   "outputs": [
    {
     "data": {
      "text/plain": [
       "MEXSTATE\n",
       "XX    55082\n",
       "MX    41404\n",
       "NL    33574\n",
       "CH    30881\n",
       "DF    26697\n",
       "JA    26363\n",
       "BC    24366\n",
       "SO    21810\n",
       "TM    21528\n",
       "CO    21456\n",
       "QT    19465\n",
       "OT    18046\n",
       "GT    17379\n",
       "SI    12070\n",
       "SL    11476\n",
       "PU     9949\n",
       "DG     9423\n",
       "AG     9404\n",
       "CM     7757\n",
       "VE     7658\n",
       "HG     7530\n",
       "MI     6082\n",
       "MO     5779\n",
       "TL     4581\n",
       "ZA     4248\n",
       "BS     3796\n",
       "QR     3793\n",
       "YU     3062\n",
       "TB     2265\n",
       "CL     1879\n",
       "OA     1746\n",
       "CS     1520\n",
       "GR     1161\n",
       "Name: count, dtype: int64"
      ]
     },
     "execution_count": 109,
     "metadata": {},
     "output_type": "execute_result"
    }
   ],
   "source": [
    "combined_dot1['MEXSTATE'].value_counts()"
   ]
  },
  {
   "cell_type": "code",
   "execution_count": 110,
   "id": "fec4aa86-211a-4b85-a841-7a211dcd0c9c",
   "metadata": {
    "tags": []
   },
   "outputs": [
    {
     "data": {
      "text/html": [
       "<div>\n",
       "<style scoped>\n",
       "    .dataframe tbody tr th:only-of-type {\n",
       "        vertical-align: middle;\n",
       "    }\n",
       "\n",
       "    .dataframe tbody tr th {\n",
       "        vertical-align: top;\n",
       "    }\n",
       "\n",
       "    .dataframe thead th {\n",
       "        text-align: right;\n",
       "    }\n",
       "</style>\n",
       "<table border=\"1\" class=\"dataframe\">\n",
       "  <thead>\n",
       "    <tr style=\"text-align: right;\">\n",
       "      <th></th>\n",
       "      <th>VALUE</th>\n",
       "      <th>SHIPWT</th>\n",
       "      <th>FREIGHT_CHARGES</th>\n",
       "      <th>YEAR</th>\n",
       "    </tr>\n",
       "  </thead>\n",
       "  <tbody>\n",
       "    <tr>\n",
       "      <th>count</th>\n",
       "      <td>1.621611e+06</td>\n",
       "      <td>1.621611e+06</td>\n",
       "      <td>1.621611e+06</td>\n",
       "      <td>1.621611e+06</td>\n",
       "    </tr>\n",
       "    <tr>\n",
       "      <th>mean</th>\n",
       "      <td>5.760529e+06</td>\n",
       "      <td>2.344307e+06</td>\n",
       "      <td>7.560707e+04</td>\n",
       "      <td>2.022008e+03</td>\n",
       "    </tr>\n",
       "    <tr>\n",
       "      <th>std</th>\n",
       "      <td>1.114547e+08</td>\n",
       "      <td>1.125783e+08</td>\n",
       "      <td>2.755028e+06</td>\n",
       "      <td>1.290613e+00</td>\n",
       "    </tr>\n",
       "    <tr>\n",
       "      <th>min</th>\n",
       "      <td>0.000000e+00</td>\n",
       "      <td>0.000000e+00</td>\n",
       "      <td>0.000000e+00</td>\n",
       "      <td>2.020000e+03</td>\n",
       "    </tr>\n",
       "    <tr>\n",
       "      <th>25%</th>\n",
       "      <td>2.008800e+04</td>\n",
       "      <td>0.000000e+00</td>\n",
       "      <td>0.000000e+00</td>\n",
       "      <td>2.021000e+03</td>\n",
       "    </tr>\n",
       "    <tr>\n",
       "      <th>50%</th>\n",
       "      <td>1.060020e+05</td>\n",
       "      <td>3.000000e+00</td>\n",
       "      <td>3.950000e+02</td>\n",
       "      <td>2.022000e+03</td>\n",
       "    </tr>\n",
       "    <tr>\n",
       "      <th>75%</th>\n",
       "      <td>7.009690e+05</td>\n",
       "      <td>9.789500e+03</td>\n",
       "      <td>3.958000e+03</td>\n",
       "      <td>2.023000e+03</td>\n",
       "    </tr>\n",
       "    <tr>\n",
       "      <th>max</th>\n",
       "      <td>4.801019e+10</td>\n",
       "      <td>8.395042e+10</td>\n",
       "      <td>2.009334e+09</td>\n",
       "      <td>2.024000e+03</td>\n",
       "    </tr>\n",
       "  </tbody>\n",
       "</table>\n",
       "</div>"
      ],
      "text/plain": [
       "              VALUE        SHIPWT  FREIGHT_CHARGES          YEAR\n",
       "count  1.621611e+06  1.621611e+06     1.621611e+06  1.621611e+06\n",
       "mean   5.760529e+06  2.344307e+06     7.560707e+04  2.022008e+03\n",
       "std    1.114547e+08  1.125783e+08     2.755028e+06  1.290613e+00\n",
       "min    0.000000e+00  0.000000e+00     0.000000e+00  2.020000e+03\n",
       "25%    2.008800e+04  0.000000e+00     0.000000e+00  2.021000e+03\n",
       "50%    1.060020e+05  3.000000e+00     3.950000e+02  2.022000e+03\n",
       "75%    7.009690e+05  9.789500e+03     3.958000e+03  2.023000e+03\n",
       "max    4.801019e+10  8.395042e+10     2.009334e+09  2.024000e+03"
      ]
     },
     "execution_count": 110,
     "metadata": {},
     "output_type": "execute_result"
    }
   ],
   "source": [
    "#describing the categorical variables\n",
    "combined_dot1.describe()"
   ]
  },
  {
   "cell_type": "code",
   "execution_count": 111,
   "id": "9a365f92-19ca-4499-9e8f-b637b1ad089a",
   "metadata": {
    "tags": []
   },
   "outputs": [
    {
     "data": {
      "text/plain": [
       "array(['AK', 'AL', 'AR', 'AZ', 'CA', 'CO', 'CT', 'DC', 'DE', 'DU', 'FL',\n",
       "       'GA', 'HI', 'IA', 'ID', 'IL', 'IN', 'KS', 'KY', 'LA', 'MA', 'MD',\n",
       "       'ME', 'MI', 'MN', 'MO', 'MS', 'MT', 'NC', 'ND', 'NE', 'NH', 'NJ',\n",
       "       'NM', 'NV', 'NY', 'OH', 'OK', 'OR', 'PA', 'RI', 'SC', 'SD', 'TN',\n",
       "       'TX', 'UT', 'VA', 'VT', 'WA', 'WI', 'WV', 'WY'], dtype=object)"
      ]
     },
     "execution_count": 111,
     "metadata": {},
     "output_type": "execute_result"
    }
   ],
   "source": [
    "combined_dot1['USASTATE'].unique()"
   ]
  },
  {
   "cell_type": "code",
   "execution_count": 112,
   "id": "24ca35d7-6042-4a17-9f8f-174aa6845e99",
   "metadata": {
    "tags": []
   },
   "outputs": [
    {
     "data": {
      "text/plain": [
       "array(['Foreign', 'Domestic', 'nan'], dtype=object)"
      ]
     },
     "execution_count": 112,
     "metadata": {},
     "output_type": "execute_result"
    }
   ],
   "source": [
    "combined_dot1['DF'].unique()"
   ]
  },
  {
   "cell_type": "code",
   "execution_count": 113,
   "id": "cf1761ad-61c7-4607-bfb2-44ddd35b440e",
   "metadata": {
    "tags": []
   },
   "outputs": [
    {
     "data": {
      "text/plain": [
       "37.559624348872816"
      ]
     },
     "execution_count": 113,
     "metadata": {},
     "output_type": "execute_result"
    }
   ],
   "source": [
    "(combined_dot1['DF'] == 'nan').sum()/len(combined_dot1)*100"
   ]
  },
  {
   "cell_type": "code",
   "execution_count": 114,
   "id": "8f633504-2e83-4f24-a156-4fb8f0fc08c4",
   "metadata": {
    "tags": []
   },
   "outputs": [
    {
     "name": "stdout",
     "output_type": "stream",
     "text": [
      "  TRDTYPE USASTATE  DEPE DISAGMOT MEXSTATE        CANPROV COUNTRY    VALUE  \\\n",
      "0  Export       AK  0115    Truck      NaN  New Brunswick  Canada     4660   \n",
      "1  Export       AK  0901    Truck      NaN        Ontario  Canada    14360   \n",
      "2  Export       AK  20XX   Vessel       XX            NaN  Mexico  4293733   \n",
      "3  Export       AK  20XX      Air      NaN        Alberta  Canada    28283   \n",
      "4  Export       AK  20XX      Air      NaN        Alberta  Canada    29848   \n",
      "\n",
      "     SHIPWT  FREIGHT_CHARGES        DF           CONTCODE  MONTH  YEAR  \n",
      "0         0               67   Foreign      Containerized  April  2020  \n",
      "1         0              282  Domestic      Containerized  April  2020  \n",
      "2  24971000                0  Domestic  Non-Containerized  April  2020  \n",
      "3       443              563  Domestic      Containerized  April  2020  \n",
      "4        69              538   Foreign      Containerized  April  2020  \n"
     ]
    }
   ],
   "source": [
    "import pandas as pd\n",
    "from sklearn.impute import SimpleImputer\n",
    "\n",
    "# Fill missing values in 'DF' column based on the mode within each 'COUNTRY' group\n",
    "def impute_mode(series):\n",
    "    mode_val = series.mode()\n",
    "    return series.fillna(mode_val[0]) if not mode_val.empty else series\n",
    "\n",
    "combined_dot1['DF'] = combined_dot1.groupby('COUNTRY')['DF'].transform(impute_mode)\n",
    "\n",
    "# If there are still missing values, impute with the most frequent value in the entire column\n",
    "imputer = SimpleImputer(strategy='most_frequent')\n",
    "combined_dot1['DF'] = imputer.fit_transform(combined_dot1[['DF']]).ravel()  # ✅ Fixed\n",
    "\n",
    "print(combined_dot1.head())\n"
   ]
  },
  {
   "cell_type": "code",
   "execution_count": 116,
   "id": "99056304-e394-4ef3-bebf-0ba7df8ca4ba",
   "metadata": {
    "tags": []
   },
   "outputs": [
    {
     "name": "stdout",
     "output_type": "stream",
     "text": [
      "  TRDTYPE USASTATE  DEPE DISAGMOT MEXSTATE        CANPROV COUNTRY    VALUE  \\\n",
      "0  Export       AK  0115    Truck      NaN  New Brunswick  Canada     4660   \n",
      "1  Export       AK  0901    Truck      NaN        Ontario  Canada    14360   \n",
      "2  Export       AK  20XX   Vessel       XX            NaN  Mexico  4293733   \n",
      "3  Export       AK  20XX      Air      NaN        Alberta  Canada    28283   \n",
      "4  Export       AK  20XX      Air      NaN        Alberta  Canada    29848   \n",
      "\n",
      "     SHIPWT  FREIGHT_CHARGES        DF           CONTCODE  MONTH  YEAR  \n",
      "0         0               67   Foreign      Containerized  April  2020  \n",
      "1         0              282  Domestic      Containerized  April  2020  \n",
      "2  24971000                0  Domestic  Non-Containerized  April  2020  \n",
      "3       443              563  Domestic      Containerized  April  2020  \n",
      "4        69              538   Foreign      Containerized  April  2020  \n"
     ]
    }
   ],
   "source": [
    "# Group by 'COUNTRY' and fill missing values in 'DF' with the mode of each group\n",
    "combined_dot1['DF'] = combined_dot1.groupby('COUNTRY')['DF'].transform(lambda x: x.fillna(x.mode()[0] if not x.mode().empty else x))\n",
    "\n",
    "# Check the result\n",
    "print(combined_dot1.head())"
   ]
  },
  {
   "cell_type": "code",
   "execution_count": 118,
   "id": "598f27e6-5cfd-4014-be25-3475fdc4d788",
   "metadata": {
    "tags": []
   },
   "outputs": [
    {
     "data": {
      "text/plain": [
       "array(['Foreign', 'Domestic', 'nan'], dtype=object)"
      ]
     },
     "execution_count": 118,
     "metadata": {},
     "output_type": "execute_result"
    }
   ],
   "source": [
    "combined_dot1['DF'].unique()"
   ]
  },
  {
   "cell_type": "code",
   "execution_count": 120,
   "id": "f65ea772-d205-4f93-9b6b-b10b8bf2e5f9",
   "metadata": {
    "tags": []
   },
   "outputs": [
    {
     "data": {
      "image/png": "[encoded data removed]",
      "text/plain": [
       "<Figure size 1500x3000 with 4 Axes>"
      ]
     },
     "metadata": {},
     "output_type": "display_data"
    }
   ],
   "source": [
    "import matplotlib.pyplot as plt\n",
    "import seaborn as sns\n",
    "\n",
    "# Filter data by years 2020 to 2024\n",
    "years = [2020, 2021, 2022, 2023, 2024]\n",
    "\n",
    "# Create subplots with 2 rows and 2 columns\n",
    "fig, axes = plt.subplots(nrows=2, ncols=2, figsize=(15, 30))\n",
    "plt.title('Outliers in Numerical Data by Year')\n",
    "\n",
    "# Plot VALUE by year\n",
    "sns.boxplot(x='YEAR', y='VALUE', data=combined_dot1[combined_dot1['YEAR'].isin(years)], palette='coolwarm', ax=axes[0, 0])\n",
    "axes[0, 0].set_title('VALUE')\n",
    "\n",
    "# Plot SHIPWT by year\n",
    "sns.boxplot(x='YEAR', y='SHIPWT', data=combined_dot1[combined_dot1['YEAR'].isin(years)], palette='coolwarm', ax=axes[0, 1])\n",
    "axes[0, 1].set_title('SHIPWT')\n",
    "\n",
    "# Plot FREIGHT_CHARGES by year\n",
    "sns.boxplot(x='YEAR', y='FREIGHT_CHARGES', data=combined_dot1[combined_dot1['YEAR'].isin(years)], palette='coolwarm', ax=axes[1, 0])\n",
    "axes[1, 0].set_title('FREIGHT_CHARGES')\n",
    "\n",
    "sns.boxplot(combined_dot1['YEAR'],color='green',ax=axes[1,1])\n",
    "axes[1,1].set_title('YEAR')\n",
    "\n",
    "\n",
    "# Improve layout\n",
    "plt.tight_layout()\n",
    "plt.show()"
   ]
  },
  {
   "cell_type": "code",
   "execution_count": 122,
   "id": "badbe427-fb57-4ef5-9376-1a83e0a9168f",
   "metadata": {
    "tags": []
   },
   "outputs": [
    {
     "data": {
      "image/png": "[encoded data removed]",
      "text/plain": [
       "<Figure size 640x480 with 2 Axes>"
      ]
     },
     "metadata": {},
     "output_type": "display_data"
    }
   ],
   "source": [
    "# Create correlation matrix\n",
    "correlation = combined_dot1.select_dtypes(\"number\").corr()\n",
    "correlation\n",
    "\n",
    "# Plot heatmap of `correlation`\n",
    "sns.heatmap(correlation,annot = correlation,cmap = 'Spectral_r');"
   ]
  },
  {
   "cell_type": "markdown",
   "id": "b1421bd6-7636-449d-8551-7e108aa799ff",
   "metadata": {},
   "source": [
    "#### Univariate Analysis"
   ]
  },
  {
   "cell_type": "markdown",
   "id": "085a6ac1-8bff-4fb3-966f-08d2552d9da0",
   "metadata": {
    "tags": []
   },
   "source": [
    "###### Numerical"
   ]
  },
  {
   "cell_type": "code",
   "execution_count": null,
   "id": "67d74db6-9032-4933-912f-059f966ac25c",
   "metadata": {},
   "outputs": [],
   "source": []
  },
  {
   "cell_type": "code",
   "execution_count": null,
   "id": "bda27fb2-52f8-4403-b187-33c902ac1fcd",
   "metadata": {},
   "outputs": [],
   "source": []
  },
  {
   "cell_type": "markdown",
   "id": "974d999b-826c-44cc-87f9-1ca58d7a3f58",
   "metadata": {},
   "source": [
    "###### Categorical"
   ]
  },
  {
   "cell_type": "code",
   "execution_count": null,
   "id": "95424114-7f9a-44f2-9a8a-8ac4d86946dd",
   "metadata": {},
   "outputs": [],
   "source": []
  },
  {
   "cell_type": "markdown",
   "id": "ed933f00-d0cf-427b-97e7-c8398d17a55e",
   "metadata": {},
   "source": [
    "#### Bivariate Analysis\n"
   ]
  },
  {
   "cell_type": "code",
   "execution_count": null,
   "id": "1b4b1a73-1299-4e0d-a58d-89f903893939",
   "metadata": {},
   "outputs": [],
   "source": []
  },
  {
   "cell_type": "code",
   "execution_count": null,
   "id": "72141e46-081f-4a4a-8778-ea515973ea33",
   "metadata": {},
   "outputs": [],
   "source": []
  },
  {
   "cell_type": "code",
   "execution_count": null,
   "id": "c12e28a3-a78b-48b2-87e0-20afdb55fd4b",
   "metadata": {},
   "outputs": [],
   "source": []
  }
 ],
 "metadata": {
  "kernelspec": {
   "display_name": "Python 3 (ipykernel)",
   "language": "python",
   "name": "python3"
  },
  "language_info": {
   "codemirror_mode": {
    "name": "ipython",
    "version": 3
   },
   "file_extension": ".py",
   "mimetype": "text/x-python",
   "name": "python",
   "nbconvert_exporter": "python",
   "pygments_lexer": "ipython3",
   "version": "3.11.5"
  }
 },
 "nbformat": 4,
 "nbformat_minor": 5
}
